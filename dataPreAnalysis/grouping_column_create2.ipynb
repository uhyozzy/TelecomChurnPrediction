{
 "cells": [
  {
   "cell_type": "code",
   "execution_count": 10,
   "metadata": {},
   "outputs": [],
   "source": [
    "# Basic module\n",
    "import numpy as np\n",
    "import pandas as pd\n",
    "\n",
    "# Graphic module\n",
    "import matplotlib.pyplot as plt\n",
    "import seaborn as sns\n",
    "\n",
    "# Chi-Square module\n",
    "from scipy.stats import chi2, chi2_contingency, pointbiserialr  # Not exist in basic anaconda. Install need(pip install scipy or conda install scipy)\n",
    "from scipy.stats.contingency import association"
   ]
  },
  {
   "attachments": {},
   "cell_type": "markdown",
   "metadata": {},
   "source": [
    "## Summary\n",
    "\n",
    "상관관계 및 컬럼 유사성을 기반으로 한 그룹화 레이블 컬럼 생성\n",
    "\n",
    "컬럼 내 데이터가 3개 이상인 범주 데이터들에 대한 레이블 컬럼 - 해지 상관관계 확인"
   ]
  },
  {
   "attachments": {},
   "cell_type": "markdown",
   "metadata": {},
   "source": [
    "## Data loading\n",
    "### Load"
   ]
  },
  {
   "cell_type": "code",
   "execution_count": 11,
   "metadata": {},
   "outputs": [],
   "source": [
    "labeled_data = pd.read_csv(\"./result_data/labeling_data.csv\", header=0, index_col=0, encoding='utf-8')"
   ]
  },
  {
   "attachments": {},
   "cell_type": "markdown",
   "metadata": {},
   "source": [
    "### Pre-processing\n"
   ]
  },
  {
   "cell_type": "code",
   "execution_count": 12,
   "metadata": {},
   "outputs": [
    {
     "name": "stderr",
     "output_type": "stream",
     "text": [
      "C:\\Users\\La_Elya\\AppData\\Local\\Temp\\ipykernel_17356\\2752292322.py:4: SettingWithCopyWarning: \n",
      "A value is trying to be set on a copy of a slice from a DataFrame\n",
      "\n",
      "See the caveats in the documentation: https://pandas.pydata.org/pandas-docs/stable/user_guide/indexing.html#returning-a-view-versus-a-copy\n",
      "  labeled_data_cp['Customer Status'][labeled_data_cp['Customer Status'] == 'Joined'] = 'Stayed'\n"
     ]
    }
   ],
   "source": [
    "# Joined 상태 Stayed로 변경\n",
    "labeled_data_cp = labeled_data.copy()\n",
    "\n",
    "labeled_data_cp['Customer Status'][labeled_data_cp['Customer Status'] == 'Joined'] = 'Stayed'"
   ]
  },
  {
   "cell_type": "code",
   "execution_count": 23,
   "metadata": {},
   "outputs": [],
   "source": [
    "# labeled_data_cp[['Payment Method', 'Paperless Billing']]"
   ]
  },
  {
   "cell_type": "code",
   "execution_count": 14,
   "metadata": {},
   "outputs": [],
   "source": [
    "billing_columns = ['Payment Method', 'Paperless Billing']\n",
    "internet_columns = ['Internet Type', 'Internet Service', 'Unlimited Data']"
   ]
  },
  {
   "attachments": {},
   "cell_type": "markdown",
   "metadata": {},
   "source": [
    "## Billing"
   ]
  },
  {
   "cell_type": "code",
   "execution_count": 24,
   "metadata": {},
   "outputs": [
    {
     "data": {
      "text/html": [
       "<div>\n",
       "<style scoped>\n",
       "    .dataframe tbody tr th:only-of-type {\n",
       "        vertical-align: middle;\n",
       "    }\n",
       "\n",
       "    .dataframe tbody tr th {\n",
       "        vertical-align: top;\n",
       "    }\n",
       "\n",
       "    .dataframe thead th {\n",
       "        text-align: right;\n",
       "    }\n",
       "</style>\n",
       "<table border=\"1\" class=\"dataframe\">\n",
       "  <thead>\n",
       "    <tr style=\"text-align: right;\">\n",
       "      <th></th>\n",
       "      <th>billing_category</th>\n",
       "    </tr>\n",
       "  </thead>\n",
       "  <tbody>\n",
       "    <tr>\n",
       "      <th>0</th>\n",
       "      <td>BWY</td>\n",
       "    </tr>\n",
       "    <tr>\n",
       "      <th>1</th>\n",
       "      <td>CCY</td>\n",
       "    </tr>\n",
       "    <tr>\n",
       "      <th>2</th>\n",
       "      <td>BWY</td>\n",
       "    </tr>\n",
       "    <tr>\n",
       "      <th>3</th>\n",
       "      <td>BWY</td>\n",
       "    </tr>\n",
       "    <tr>\n",
       "      <th>4</th>\n",
       "      <td>BWY</td>\n",
       "    </tr>\n",
       "    <tr>\n",
       "      <th>...</th>\n",
       "      <td>...</td>\n",
       "    </tr>\n",
       "    <tr>\n",
       "      <th>7038</th>\n",
       "      <td>BWY</td>\n",
       "    </tr>\n",
       "    <tr>\n",
       "      <th>7039</th>\n",
       "      <td>MCY</td>\n",
       "    </tr>\n",
       "    <tr>\n",
       "      <th>7040</th>\n",
       "      <td>CCY</td>\n",
       "    </tr>\n",
       "    <tr>\n",
       "      <th>7041</th>\n",
       "      <td>BWY</td>\n",
       "    </tr>\n",
       "    <tr>\n",
       "      <th>7042</th>\n",
       "      <td>BWY</td>\n",
       "    </tr>\n",
       "  </tbody>\n",
       "</table>\n",
       "<p>7043 rows × 1 columns</p>\n",
       "</div>"
      ],
      "text/plain": [
       "     billing_category\n",
       "0                 BWY\n",
       "1                 CCY\n",
       "2                 BWY\n",
       "3                 BWY\n",
       "4                 BWY\n",
       "...               ...\n",
       "7038              BWY\n",
       "7039              MCY\n",
       "7040              CCY\n",
       "7041              BWY\n",
       "7042              BWY\n",
       "\n",
       "[7043 rows x 1 columns]"
      ]
     },
     "execution_count": 24,
     "metadata": {},
     "output_type": "execute_result"
    }
   ],
   "source": [
    "category_dict = {'Bank Withdrawal':'BW', 'Credit Card':'CC', 'Mailed Check':'MC', 'Yes':'Y', 'No':'N'}\n",
    "billing_df = pd.DataFrame(columns=['billing_category'])\n",
    "target_df = labeled_data_cp[billing_columns]\n",
    "\n",
    "for i in range(len(target_df)):\n",
    "    ct = ''\n",
    "    if target_df.loc[i]['Payment Method'] in category_dict.keys():\n",
    "        ct += category_dict[target_df.loc[i]['Payment Method']]\n",
    "    \n",
    "    if target_df.loc[i]['Paperless Billing'] in category_dict.keys():\n",
    "        ct += category_dict[target_df.loc[i]['Paperless Billing']]\n",
    "    \n",
    "    billing_df.loc[len(billing_df)] = ct\n",
    "\n",
    "billing_df"
   ]
  },
  {
   "cell_type": "code",
   "execution_count": 18,
   "metadata": {},
   "outputs": [],
   "source": [
    "billing_category_churned =  pd.concat([billing_df, labeled_data_cp['Customer Status']], axis=1)\n",
    "# billing_category_churned"
   ]
  },
  {
   "cell_type": "code",
   "execution_count": 21,
   "metadata": {},
   "outputs": [
    {
     "data": {
      "text/html": [
       "<div>\n",
       "<style scoped>\n",
       "    .dataframe tbody tr th:only-of-type {\n",
       "        vertical-align: middle;\n",
       "    }\n",
       "\n",
       "    .dataframe tbody tr th {\n",
       "        vertical-align: top;\n",
       "    }\n",
       "\n",
       "    .dataframe thead th {\n",
       "        text-align: right;\n",
       "    }\n",
       "</style>\n",
       "<table border=\"1\" class=\"dataframe\">\n",
       "  <thead>\n",
       "    <tr style=\"text-align: right;\">\n",
       "      <th>Customer Status</th>\n",
       "      <th>Churned</th>\n",
       "      <th>Stayed</th>\n",
       "      <th>Total</th>\n",
       "      <th>Churned_Percent</th>\n",
       "    </tr>\n",
       "    <tr>\n",
       "      <th>billing_category</th>\n",
       "      <th></th>\n",
       "      <th></th>\n",
       "      <th></th>\n",
       "      <th></th>\n",
       "    </tr>\n",
       "  </thead>\n",
       "  <tbody>\n",
       "    <tr>\n",
       "      <th>CCN</th>\n",
       "      <td>135</td>\n",
       "      <td>1256</td>\n",
       "      <td>1391</td>\n",
       "      <td>9.7052</td>\n",
       "    </tr>\n",
       "    <tr>\n",
       "      <th>CCY</th>\n",
       "      <td>263</td>\n",
       "      <td>1095</td>\n",
       "      <td>1358</td>\n",
       "      <td>19.3667</td>\n",
       "    </tr>\n",
       "    <tr>\n",
       "      <th>BWN</th>\n",
       "      <td>276</td>\n",
       "      <td>1000</td>\n",
       "      <td>1276</td>\n",
       "      <td>21.6301</td>\n",
       "    </tr>\n",
       "    <tr>\n",
       "      <th>MCN</th>\n",
       "      <td>58</td>\n",
       "      <td>147</td>\n",
       "      <td>205</td>\n",
       "      <td>28.2927</td>\n",
       "    </tr>\n",
       "    <tr>\n",
       "      <th>BWY</th>\n",
       "      <td>1053</td>\n",
       "      <td>1580</td>\n",
       "      <td>2633</td>\n",
       "      <td>39.9924</td>\n",
       "    </tr>\n",
       "    <tr>\n",
       "      <th>MCY</th>\n",
       "      <td>84</td>\n",
       "      <td>96</td>\n",
       "      <td>180</td>\n",
       "      <td>46.6667</td>\n",
       "    </tr>\n",
       "  </tbody>\n",
       "</table>\n",
       "</div>"
      ],
      "text/plain": [
       "Customer Status   Churned  Stayed  Total  Churned_Percent\n",
       "billing_category                                         \n",
       "CCN                   135    1256   1391           9.7052\n",
       "CCY                   263    1095   1358          19.3667\n",
       "BWN                   276    1000   1276          21.6301\n",
       "MCN                    58     147    205          28.2927\n",
       "BWY                  1053    1580   2633          39.9924\n",
       "MCY                    84      96    180          46.6667"
      ]
     },
     "execution_count": 21,
     "metadata": {},
     "output_type": "execute_result"
    }
   ],
   "source": [
    "bcc_ct = pd.crosstab(billing_category_churned['billing_category'], billing_category_churned['Customer Status'])\n",
    "bcc_ct['Total'] = bcc_ct['Churned'] + bcc_ct['Stayed']\n",
    "bcc_ct['Churned_Percent'] = round(bcc_ct['Churned']/bcc_ct['Total']*100, 4)\n",
    "bcc_ct.sort_values('Churned_Percent')\n",
    "# 이렇게 계산하면, total이 늘어날 수록, 해지율을 떨어지는 이슈가 있다."
   ]
  },
  {
   "cell_type": "code",
   "execution_count": 22,
   "metadata": {},
   "outputs": [
    {
     "data": {
      "text/plain": [
       "<Axes: xlabel='billing_category', ylabel='Churned_Percent'>"
      ]
     },
     "execution_count": 22,
     "metadata": {},
     "output_type": "execute_result"
    },
    {
     "data": {
      "image/png": "[encoded data removed]",
      "text/plain": [
       "<Figure size 640x480 with 1 Axes>"
      ]
     },
     "metadata": {},
     "output_type": "display_data"
    }
   ],
   "source": [
    "sns.barplot(bcc_ct, x=bcc_ct.index, y='Churned_Percent')"
   ]
  },
  {
   "cell_type": "code",
   "execution_count": 33,
   "metadata": {},
   "outputs": [
    {
     "data": {
      "text/plain": [
       "0.2758649050481174"
      ]
     },
     "execution_count": 33,
     "metadata": {},
     "output_type": "execute_result"
    }
   ],
   "source": [
    "test_ctdf = pd.crosstab(billing_category_churned['billing_category'], billing_category_churned['Customer Status'])\n",
    "rows = [row.to_list() for i, row in test_ctdf.iterrows()]\n",
    "association(rows, method=\"cramer\")"
   ]
  },
  {
   "attachments": {},
   "cell_type": "markdown",
   "metadata": {},
   "source": [
    "## Internet"
   ]
  },
  {
   "cell_type": "code",
   "execution_count": 26,
   "metadata": {},
   "outputs": [
    {
     "data": {
      "text/plain": [
       "Internet Type  Internet Service  Unlimited Data\n",
       "Fiber Optic    Yes               Yes               2616\n",
       "None           No                No                1526\n",
       "DSL            Yes               Yes               1414\n",
       "Cable          Yes               Yes                715\n",
       "Fiber Optic    Yes               No                 419\n",
       "DSL            Yes               No                 238\n",
       "Cable          Yes               No                 115\n",
       "dtype: int64"
      ]
     },
     "execution_count": 26,
     "metadata": {},
     "output_type": "execute_result"
    }
   ],
   "source": [
    "labeled_data_cp[internet_columns].value_counts()"
   ]
  },
  {
   "cell_type": "code",
   "execution_count": 27,
   "metadata": {},
   "outputs": [
    {
     "data": {
      "text/html": [
       "<div>\n",
       "<style scoped>\n",
       "    .dataframe tbody tr th:only-of-type {\n",
       "        vertical-align: middle;\n",
       "    }\n",
       "\n",
       "    .dataframe tbody tr th {\n",
       "        vertical-align: top;\n",
       "    }\n",
       "\n",
       "    .dataframe thead th {\n",
       "        text-align: right;\n",
       "    }\n",
       "</style>\n",
       "<table border=\"1\" class=\"dataframe\">\n",
       "  <thead>\n",
       "    <tr style=\"text-align: right;\">\n",
       "      <th></th>\n",
       "      <th>internet_category</th>\n",
       "    </tr>\n",
       "  </thead>\n",
       "  <tbody>\n",
       "    <tr>\n",
       "      <th>0</th>\n",
       "      <td>DSYN</td>\n",
       "    </tr>\n",
       "    <tr>\n",
       "      <th>1</th>\n",
       "      <td>FOYY</td>\n",
       "    </tr>\n",
       "    <tr>\n",
       "      <th>2</th>\n",
       "      <td>FOYY</td>\n",
       "    </tr>\n",
       "    <tr>\n",
       "      <th>3</th>\n",
       "      <td>FOYY</td>\n",
       "    </tr>\n",
       "    <tr>\n",
       "      <th>4</th>\n",
       "      <td>FOYY</td>\n",
       "    </tr>\n",
       "    <tr>\n",
       "      <th>...</th>\n",
       "      <td>...</td>\n",
       "    </tr>\n",
       "    <tr>\n",
       "      <th>7038</th>\n",
       "      <td>NaNN</td>\n",
       "    </tr>\n",
       "    <tr>\n",
       "      <th>7039</th>\n",
       "      <td>CBYY</td>\n",
       "    </tr>\n",
       "    <tr>\n",
       "      <th>7040</th>\n",
       "      <td>FOYY</td>\n",
       "    </tr>\n",
       "    <tr>\n",
       "      <th>7041</th>\n",
       "      <td>DSYY</td>\n",
       "    </tr>\n",
       "    <tr>\n",
       "      <th>7042</th>\n",
       "      <td>FOYY</td>\n",
       "    </tr>\n",
       "  </tbody>\n",
       "</table>\n",
       "<p>7043 rows × 1 columns</p>\n",
       "</div>"
      ],
      "text/plain": [
       "     internet_category\n",
       "0                 DSYN\n",
       "1                 FOYY\n",
       "2                 FOYY\n",
       "3                 FOYY\n",
       "4                 FOYY\n",
       "...                ...\n",
       "7038              NaNN\n",
       "7039              CBYY\n",
       "7040              FOYY\n",
       "7041              DSYY\n",
       "7042              FOYY\n",
       "\n",
       "[7043 rows x 1 columns]"
      ]
     },
     "execution_count": 27,
     "metadata": {},
     "output_type": "execute_result"
    }
   ],
   "source": [
    "category_dict = {'Fiber Optic':'FO', 'DSL':'DS', 'Cable':'CB', 'Yes':'Y', 'No':'N', \"None\":\"Na\"}\n",
    "internet_df = pd.DataFrame(columns=['internet_category'])\n",
    "target_df = labeled_data_cp[internet_columns]\n",
    "\n",
    "for i in range(len(target_df)):\n",
    "    ct = ''\n",
    "    if target_df.loc[i]['Internet Type'] in category_dict.keys():\n",
    "        ct += category_dict[target_df.loc[i]['Internet Type']]\n",
    "    \n",
    "    if target_df.loc[i]['Internet Service'] in category_dict.keys():\n",
    "        ct += category_dict[target_df.loc[i]['Internet Service']]\n",
    "    \n",
    "    if target_df.loc[i]['Unlimited Data'] in category_dict.keys():\n",
    "        ct += category_dict[target_df.loc[i]['Unlimited Data']]\n",
    "    \n",
    "    internet_df.loc[len(internet_df)] = ct\n",
    "\n",
    "internet_df"
   ]
  },
  {
   "cell_type": "code",
   "execution_count": 28,
   "metadata": {},
   "outputs": [],
   "source": [
    "internet_category_churned =  pd.concat([internet_df, labeled_data_cp['Customer Status']], axis=1)\n",
    "# billing_category_churned"
   ]
  },
  {
   "cell_type": "code",
   "execution_count": 31,
   "metadata": {},
   "outputs": [
    {
     "data": {
      "text/html": [
       "<div>\n",
       "<style scoped>\n",
       "    .dataframe tbody tr th:only-of-type {\n",
       "        vertical-align: middle;\n",
       "    }\n",
       "\n",
       "    .dataframe tbody tr th {\n",
       "        vertical-align: top;\n",
       "    }\n",
       "\n",
       "    .dataframe thead th {\n",
       "        text-align: right;\n",
       "    }\n",
       "</style>\n",
       "<table border=\"1\" class=\"dataframe\">\n",
       "  <thead>\n",
       "    <tr style=\"text-align: right;\">\n",
       "      <th>Customer Status</th>\n",
       "      <th>Churned</th>\n",
       "      <th>Stayed</th>\n",
       "      <th>Total</th>\n",
       "      <th>Churned_Percent</th>\n",
       "    </tr>\n",
       "    <tr>\n",
       "      <th>internet_category</th>\n",
       "      <th></th>\n",
       "      <th></th>\n",
       "      <th></th>\n",
       "      <th></th>\n",
       "    </tr>\n",
       "  </thead>\n",
       "  <tbody>\n",
       "    <tr>\n",
       "      <th>NaNN</th>\n",
       "      <td>113</td>\n",
       "      <td>1413</td>\n",
       "      <td>1526</td>\n",
       "      <td>7.4050</td>\n",
       "    </tr>\n",
       "    <tr>\n",
       "      <th>DSYY</th>\n",
       "      <td>260</td>\n",
       "      <td>1154</td>\n",
       "      <td>1414</td>\n",
       "      <td>18.3876</td>\n",
       "    </tr>\n",
       "    <tr>\n",
       "      <th>DSYN</th>\n",
       "      <td>47</td>\n",
       "      <td>191</td>\n",
       "      <td>238</td>\n",
       "      <td>19.7479</td>\n",
       "    </tr>\n",
       "    <tr>\n",
       "      <th>CBYY</th>\n",
       "      <td>174</td>\n",
       "      <td>541</td>\n",
       "      <td>715</td>\n",
       "      <td>24.3357</td>\n",
       "    </tr>\n",
       "    <tr>\n",
       "      <th>CBYN</th>\n",
       "      <td>39</td>\n",
       "      <td>76</td>\n",
       "      <td>115</td>\n",
       "      <td>33.9130</td>\n",
       "    </tr>\n",
       "    <tr>\n",
       "      <th>FOYN</th>\n",
       "      <td>168</td>\n",
       "      <td>251</td>\n",
       "      <td>419</td>\n",
       "      <td>40.0955</td>\n",
       "    </tr>\n",
       "    <tr>\n",
       "      <th>FOYY</th>\n",
       "      <td>1068</td>\n",
       "      <td>1548</td>\n",
       "      <td>2616</td>\n",
       "      <td>40.8257</td>\n",
       "    </tr>\n",
       "  </tbody>\n",
       "</table>\n",
       "</div>"
      ],
      "text/plain": [
       "Customer Status    Churned  Stayed  Total  Churned_Percent\n",
       "internet_category                                         \n",
       "NaNN                   113    1413   1526           7.4050\n",
       "DSYY                   260    1154   1414          18.3876\n",
       "DSYN                    47     191    238          19.7479\n",
       "CBYY                   174     541    715          24.3357\n",
       "CBYN                    39      76    115          33.9130\n",
       "FOYN                   168     251    419          40.0955\n",
       "FOYY                  1068    1548   2616          40.8257"
      ]
     },
     "execution_count": 31,
     "metadata": {},
     "output_type": "execute_result"
    }
   ],
   "source": [
    "icc_ct = pd.crosstab(internet_category_churned['internet_category'], internet_category_churned['Customer Status'])\n",
    "icc_ct['Total'] = icc_ct['Churned'] + icc_ct['Stayed']\n",
    "icc_ct['Churned_Percent'] = round(icc_ct['Churned']/icc_ct['Total']*100, 4)\n",
    "icc_ct.sort_values('Churned_Percent')\n",
    "# 이렇게 계산하면, total이 늘어날 수록, 해지율을 떨어지는 이슈가 있다."
   ]
  },
  {
   "cell_type": "code",
   "execution_count": 32,
   "metadata": {},
   "outputs": [
    {
     "data": {
      "text/plain": [
       "<Axes: xlabel='internet_category', ylabel='Churned_Percent'>"
      ]
     },
     "execution_count": 32,
     "metadata": {},
     "output_type": "execute_result"
    },
    {
     "data": {
      "image/png": "[encoded data removed]",
      "text/plain": [
       "<Figure size 640x480 with 1 Axes>"
      ]
     },
     "metadata": {},
     "output_type": "display_data"
    }
   ],
   "source": [
    "sns.barplot(icc_ct, x=icc_ct.index, y='Churned_Percent')"
   ]
  },
  {
   "cell_type": "code",
   "execution_count": 34,
   "metadata": {},
   "outputs": [
    {
     "data": {
      "text/plain": [
       "0.3058391977770261"
      ]
     },
     "execution_count": 34,
     "metadata": {},
     "output_type": "execute_result"
    }
   ],
   "source": [
    "test_ctdf = pd.crosstab(internet_category_churned['internet_category'], internet_category_churned['Customer Status'])\n",
    "rows = [row.to_list() for i, row in test_ctdf.iterrows()]\n",
    "association(rows, method=\"cramer\")"
   ]
  }
 ],
 "metadata": {
  "kernelspec": {
   "display_name": "base",
   "language": "python",
   "name": "python3"
  },
  "language_info": {
   "codemirror_mode": {
    "name": "ipython",
    "version": 3
   },
   "file_extension": ".py",
   "mimetype": "text/x-python",
   "name": "python",
   "nbconvert_exporter": "python",
   "pygments_lexer": "ipython3",
   "version": "3.10.4"
  },
  "orig_nbformat": 4
 },
 "nbformat": 4,
 "nbformat_minor": 2
}
