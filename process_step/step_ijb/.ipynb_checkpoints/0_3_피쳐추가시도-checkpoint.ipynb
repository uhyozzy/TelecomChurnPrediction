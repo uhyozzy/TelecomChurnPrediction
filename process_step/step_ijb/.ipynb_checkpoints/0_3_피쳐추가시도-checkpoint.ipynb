{
 "cells": [
  {
   "cell_type": "code",
   "execution_count": null,
   "id": "7742eb76",
   "metadata": {},
   "outputs": [],
   "source": [
    "import pandas as pd\n",
    "\n",
    "#파일 불러오기\n",
    "file_path = 'merged_file_re.xlsx'\n",
    "data = pd.read_excel(file_path)"
   ]
  },
  {
   "cell_type": "code",
   "execution_count": null,
   "id": "cecbe482",
   "metadata": {},
   "outputs": [],
   "source": [
    "# CreditRating 값과 Churn 여부에 따른 비율 계산\n",
    "credit_ratio = data.groupby('CreditRating')['Churn'].value_counts(normalize=True).unstack().fillna(0)\n",
    "\n",
    "# CreditRating 열의 값에 대한 Churn 여부에 따른 비율 정보를 새로운 열로 추가\n",
    "data['CreditRating_Churn_Ratio'] = data['CreditRating'].map(credit_ratio['Yes'])\n",
    "\n",
    "print(data)"
   ]
  }
 ],
 "metadata": {
  "kernelspec": {
   "display_name": "Python 3 (ipykernel)",
   "language": "python",
   "name": "python3"
  },
  "language_info": {
   "codemirror_mode": {
    "name": "ipython",
    "version": 3
   },
   "file_extension": ".py",
   "mimetype": "text/x-python",
   "name": "python",
   "nbconvert_exporter": "python",
   "pygments_lexer": "ipython3",
   "version": "3.9.13"
  }
 },
 "nbformat": 4,
 "nbformat_minor": 5
}
