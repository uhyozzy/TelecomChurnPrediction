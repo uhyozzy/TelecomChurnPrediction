{
 "cells": [
  {
   "cell_type": "code",
   "execution_count": 3,
   "id": "52bb0587",
   "metadata": {},
   "outputs": [],
   "source": [
    "import pandas as pd\n",
    "\n",
    "# 첫 번째 파일 불러오기\n",
    "file1 = \"Churn_final_이탈확률.xlsx\"  # 첫 번째 파일 경로\n",
    "df1 = pd.read_excel(file1)\n",
    "\n",
    "# 두 번째 파일 불러오기\n",
    "file2 = \"Telco_customer_churn.xlsx\"  # 두 번째 파일 경로\n",
    "df2 = pd.read_excel(file2)\n",
    "\n",
    "# \"id\"를 기준으로 두 DataFrame 병합\n",
    "merged_df = df1.merge(df2[['Customer ID', 'CLTV']], on='Customer ID', how='left')\n",
    "\n",
    "# 새로운 Excel 파일로 저장\n",
    "output_file = \"Churn_final_이탈확률_CLTV.xlsx\"  # 저장할 파일 경로\n",
    "merged_df.to_excel(output_file, index=False)\n"
   ]
  },
  {
   "cell_type": "code",
   "execution_count": null,
   "id": "2fe028d9",
   "metadata": {},
   "outputs": [],
   "source": []
  }
 ],
 "metadata": {
  "kernelspec": {
   "display_name": "Python 3 (ipykernel)",
   "language": "python",
   "name": "python3"
  },
  "language_info": {
   "codemirror_mode": {
    "name": "ipython",
    "version": 3
   },
   "file_extension": ".py",
   "mimetype": "text/x-python",
   "name": "python",
   "nbconvert_exporter": "python",
   "pygments_lexer": "ipython3",
   "version": "3.9.13"
  }
 },
 "nbformat": 4,
 "nbformat_minor": 5
}
