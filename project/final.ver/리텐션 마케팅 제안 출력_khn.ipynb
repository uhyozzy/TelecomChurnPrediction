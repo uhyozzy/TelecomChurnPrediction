{
 "cells": [
  {
   "cell_type": "markdown",
   "id": "ea26f33c",
   "metadata": {
    "toc": true
   },
   "source": [
    "<h1>Table of Contents<span class=\"tocSkip\"></span></h1>\n",
    "<div class=\"toc\"><ul class=\"toc-item\"><li><span><a href=\"#고객-등급-분류\" data-toc-modified-id=\"고객-등급-분류-1\"><span class=\"toc-item-num\">1&nbsp;&nbsp;</span>고객 등급 분류</a></span></li><li><span><a href=\"#사용할-리텐션-마케팅-제안-함수-코드-부분-(Churn-Value-제외-버전)\" data-toc-modified-id=\"사용할-리텐션-마케팅-제안-함수-코드-부분-(Churn-Value-제외-버전)-2\"><span class=\"toc-item-num\">2&nbsp;&nbsp;</span>사용할 리텐션 마케팅 제안 함수 코드 부분 (Churn Value 제외 버전)</a></span><ul class=\"toc-item\"><li><span><a href=\"#기업/개인-고객-분류-+-혜택-제안-적용되서-나오게-해보기\" data-toc-modified-id=\"기업/개인-고객-분류-+-혜택-제안-적용되서-나오게-해보기-2.1\"><span class=\"toc-item-num\">2.1&nbsp;&nbsp;</span>기업/개인 고객 분류 + 혜택 제안 적용되서 나오게 해보기</a></span></li><li><span><a href=\"#사용할-리텐션-마케팅-제안-함수-코드-부분-(Churn-Value-제외-버전)\" data-toc-modified-id=\"사용할-리텐션-마케팅-제안-함수-코드-부분-(Churn-Value-제외-버전)-2.2\"><span class=\"toc-item-num\">2.2&nbsp;&nbsp;</span>사용할 리텐션 마케팅 제안 함수 코드 부분 (Churn Value 제외 버전)</a></span></li></ul></li></ul></div>"
   ]
  },
  {
   "cell_type": "code",
   "execution_count": 14,
   "id": "170e5a0d",
   "metadata": {},
   "outputs": [
    {
     "data": {
      "text/html": [
       "        <script type=\"text/javascript\">\n",
       "        window.PlotlyConfig = {MathJaxConfig: 'local'};\n",
       "        if (window.MathJax && window.MathJax.Hub && window.MathJax.Hub.Config) {window.MathJax.Hub.Config({SVG: {font: \"STIX-Web\"}});}\n",
       "        if (typeof require !== 'undefined') {\n",
       "        require.undef(\"plotly\");\n",
       "        requirejs.config({\n",
       "            paths: {\n",
       "                'plotly': ['https://cdn.plot.ly/plotly-2.26.0.min']\n",
       "            }\n",
       "        });\n",
       "        require(['plotly'], function(Plotly) {\n",
       "            window._Plotly = Plotly;\n",
       "        });\n",
       "        }\n",
       "        </script>\n",
       "        "
      ]
     },
     "metadata": {},
     "output_type": "display_data"
    }
   ],
   "source": [
    "import numpy as np\n",
    "import pandas as pd\n",
    "import plotly.offline as py # visualization\n",
    "py.init_notebook_mode(connected=True) # visualization\n",
    "import plotly.graph_objs as go # visualization\n",
    "from plotly.subplots import make_subplots\n",
    "import plotly.figure_factory as ff # visualization\n",
    "import plotly.express as px \n",
    "from plotly.offline import download_plotlyjs, init_notebook_mode, plot, iplot \n",
    "import cufflinks as cf \n",
    "import warnings"
   ]
  },
  {
   "cell_type": "code",
   "execution_count": 15,
   "id": "8e0a4e90",
   "metadata": {},
   "outputs": [
    {
     "data": {
      "text/html": [
       "        <script type=\"text/javascript\">\n",
       "        window.PlotlyConfig = {MathJaxConfig: 'local'};\n",
       "        if (window.MathJax && window.MathJax.Hub && window.MathJax.Hub.Config) {window.MathJax.Hub.Config({SVG: {font: \"STIX-Web\"}});}\n",
       "        if (typeof require !== 'undefined') {\n",
       "        require.undef(\"plotly\");\n",
       "        requirejs.config({\n",
       "            paths: {\n",
       "                'plotly': ['https://cdn.plot.ly/plotly-2.26.0.min']\n",
       "            }\n",
       "        });\n",
       "        require(['plotly'], function(Plotly) {\n",
       "            window._Plotly = Plotly;\n",
       "        });\n",
       "        }\n",
       "        </script>\n",
       "        "
      ]
     },
     "metadata": {},
     "output_type": "display_data"
    },
    {
     "data": {
      "text/html": [
       "        <script type=\"text/javascript\">\n",
       "        window.PlotlyConfig = {MathJaxConfig: 'local'};\n",
       "        if (window.MathJax && window.MathJax.Hub && window.MathJax.Hub.Config) {window.MathJax.Hub.Config({SVG: {font: \"STIX-Web\"}});}\n",
       "        if (typeof require !== 'undefined') {\n",
       "        require.undef(\"plotly\");\n",
       "        requirejs.config({\n",
       "            paths: {\n",
       "                'plotly': ['https://cdn.plot.ly/plotly-2.26.0.min']\n",
       "            }\n",
       "        });\n",
       "        require(['plotly'], function(Plotly) {\n",
       "            window._Plotly = Plotly;\n",
       "        });\n",
       "        }\n",
       "        </script>\n",
       "        "
      ]
     },
     "metadata": {},
     "output_type": "display_data"
    }
   ],
   "source": [
    "warnings.filterwarnings('ignore')\n",
    "cf.go_offline() \n",
    "init_notebook_mode(connected=True)"
   ]
  },
  {
   "cell_type": "code",
   "execution_count": 16,
   "id": "a5db949d",
   "metadata": {},
   "outputs": [],
   "source": [
    "from IPython.core.interactiveshell import InteractiveShell\n",
    "InteractiveShell.ast_node_interactivity=\"all\""
   ]
  },
  {
   "cell_type": "code",
   "execution_count": 17,
   "id": "141ed0e3",
   "metadata": {},
   "outputs": [],
   "source": [
    "import matplotlib.pyplot as plt\n",
    "import seaborn as sns\n",
    "%matplotlib inline\n",
    "\n",
    "# Graphics in retina format are more sharp and legible\n",
    "%config InlineBackend.figure_format = 'retina'"
   ]
  },
  {
   "cell_type": "code",
   "execution_count": 18,
   "id": "0944da71",
   "metadata": {},
   "outputs": [],
   "source": [
    "# unicode minus를 사용하지 않기 위한 설정 (minus 깨짐현상 방지)\n",
    "plt.rcParams['axes.unicode_minus'] = False\n",
    "# 한글 텍스트를 제대로 표시하기 위해 'font.family' 사용\n",
    "plt.rcParams['font.family'] = 'AppleGothic'"
   ]
  },
  {
   "cell_type": "code",
   "execution_count": 19,
   "id": "4a86adcf",
   "metadata": {},
   "outputs": [],
   "source": [
    "# csv 파일 불러오기\n",
    "df = pd.read_csv('./data/Churn.csv')"
   ]
  },
  {
   "cell_type": "code",
   "execution_count": 20,
   "id": "4e29ba81",
   "metadata": {},
   "outputs": [
    {
     "data": {
      "text/html": [
       "<div>\n",
       "<style scoped>\n",
       "    .dataframe tbody tr th:only-of-type {\n",
       "        vertical-align: middle;\n",
       "    }\n",
       "\n",
       "    .dataframe tbody tr th {\n",
       "        vertical-align: top;\n",
       "    }\n",
       "\n",
       "    .dataframe thead th {\n",
       "        text-align: right;\n",
       "    }\n",
       "</style>\n",
       "<table border=\"1\" class=\"dataframe\">\n",
       "  <thead>\n",
       "    <tr style=\"text-align: right;\">\n",
       "      <th></th>\n",
       "      <th>Customer ID</th>\n",
       "      <th>Age</th>\n",
       "      <th>Number of Dependents</th>\n",
       "      <th>Membership</th>\n",
       "      <th>Satisfaction Score</th>\n",
       "      <th>Tech services</th>\n",
       "      <th>Streaming services</th>\n",
       "      <th>Combined Product</th>\n",
       "      <th>Contract</th>\n",
       "      <th>Tenure in Months</th>\n",
       "      <th>Monthly Charge</th>\n",
       "      <th>Total Revenue</th>\n",
       "      <th>Churn Value</th>\n",
       "      <th>CLTV</th>\n",
       "      <th>Total Charges</th>\n",
       "    </tr>\n",
       "  </thead>\n",
       "  <tbody>\n",
       "    <tr>\n",
       "      <th>0</th>\n",
       "      <td>8779-QRDMV</td>\n",
       "      <td>78</td>\n",
       "      <td>0</td>\n",
       "      <td>NaN</td>\n",
       "      <td>3</td>\n",
       "      <td>1</td>\n",
       "      <td>1</td>\n",
       "      <td>2</td>\n",
       "      <td>Month-to-Month</td>\n",
       "      <td>1</td>\n",
       "      <td>39.65</td>\n",
       "      <td>59.65</td>\n",
       "      <td>1</td>\n",
       "      <td>5433</td>\n",
       "      <td>39.65</td>\n",
       "    </tr>\n",
       "    <tr>\n",
       "      <th>1</th>\n",
       "      <td>7495-OOKFY</td>\n",
       "      <td>74</td>\n",
       "      <td>1</td>\n",
       "      <td>Offer E</td>\n",
       "      <td>3</td>\n",
       "      <td>1</td>\n",
       "      <td>0</td>\n",
       "      <td>1</td>\n",
       "      <td>Month-to-Month</td>\n",
       "      <td>8</td>\n",
       "      <td>80.65</td>\n",
       "      <td>1024.10</td>\n",
       "      <td>1</td>\n",
       "      <td>5302</td>\n",
       "      <td>633.30</td>\n",
       "    </tr>\n",
       "    <tr>\n",
       "      <th>2</th>\n",
       "      <td>1658-BYGOY</td>\n",
       "      <td>71</td>\n",
       "      <td>3</td>\n",
       "      <td>Offer D</td>\n",
       "      <td>2</td>\n",
       "      <td>0</td>\n",
       "      <td>2</td>\n",
       "      <td>1</td>\n",
       "      <td>Month-to-Month</td>\n",
       "      <td>18</td>\n",
       "      <td>95.45</td>\n",
       "      <td>1910.88</td>\n",
       "      <td>1</td>\n",
       "      <td>3179</td>\n",
       "      <td>1752.55</td>\n",
       "    </tr>\n",
       "    <tr>\n",
       "      <th>3</th>\n",
       "      <td>4598-XLKNJ</td>\n",
       "      <td>78</td>\n",
       "      <td>1</td>\n",
       "      <td>Offer C</td>\n",
       "      <td>2</td>\n",
       "      <td>2</td>\n",
       "      <td>2</td>\n",
       "      <td>1</td>\n",
       "      <td>Month-to-Month</td>\n",
       "      <td>25</td>\n",
       "      <td>98.50</td>\n",
       "      <td>2995.07</td>\n",
       "      <td>1</td>\n",
       "      <td>5337</td>\n",
       "      <td>2514.50</td>\n",
       "    </tr>\n",
       "    <tr>\n",
       "      <th>4</th>\n",
       "      <td>4846-WHAFZ</td>\n",
       "      <td>80</td>\n",
       "      <td>1</td>\n",
       "      <td>Offer C</td>\n",
       "      <td>2</td>\n",
       "      <td>0</td>\n",
       "      <td>0</td>\n",
       "      <td>1</td>\n",
       "      <td>Month-to-Month</td>\n",
       "      <td>37</td>\n",
       "      <td>76.50</td>\n",
       "      <td>3102.36</td>\n",
       "      <td>1</td>\n",
       "      <td>2793</td>\n",
       "      <td>2868.15</td>\n",
       "    </tr>\n",
       "  </tbody>\n",
       "</table>\n",
       "</div>"
      ],
      "text/plain": [
       "  Customer ID  Age  Number of Dependents Membership  Satisfaction Score  \\\n",
       "0  8779-QRDMV   78                     0        NaN                   3   \n",
       "1  7495-OOKFY   74                     1    Offer E                   3   \n",
       "2  1658-BYGOY   71                     3    Offer D                   2   \n",
       "3  4598-XLKNJ   78                     1    Offer C                   2   \n",
       "4  4846-WHAFZ   80                     1    Offer C                   2   \n",
       "\n",
       "   Tech services  Streaming services  Combined Product        Contract  \\\n",
       "0              1                   1                 2  Month-to-Month   \n",
       "1              1                   0                 1  Month-to-Month   \n",
       "2              0                   2                 1  Month-to-Month   \n",
       "3              2                   2                 1  Month-to-Month   \n",
       "4              0                   0                 1  Month-to-Month   \n",
       "\n",
       "   Tenure in Months  Monthly Charge  Total Revenue  Churn Value  CLTV  \\\n",
       "0                 1           39.65          59.65            1  5433   \n",
       "1                 8           80.65        1024.10            1  5302   \n",
       "2                18           95.45        1910.88            1  3179   \n",
       "3                25           98.50        2995.07            1  5337   \n",
       "4                37           76.50        3102.36            1  2793   \n",
       "\n",
       "   Total Charges  \n",
       "0          39.65  \n",
       "1         633.30  \n",
       "2        1752.55  \n",
       "3        2514.50  \n",
       "4        2868.15  "
      ]
     },
     "execution_count": 20,
     "metadata": {},
     "output_type": "execute_result"
    }
   ],
   "source": [
    "df.head()"
   ]
  },
  {
   "cell_type": "code",
   "execution_count": 21,
   "id": "c88d78d0",
   "metadata": {},
   "outputs": [
    {
     "name": "stdout",
     "output_type": "stream",
     "text": [
      "<class 'pandas.core.frame.DataFrame'>\n",
      "RangeIndex: 7043 entries, 0 to 7042\n",
      "Data columns (total 15 columns):\n",
      " #   Column                Non-Null Count  Dtype  \n",
      "---  ------                --------------  -----  \n",
      " 0   Customer ID           7043 non-null   object \n",
      " 1   Age                   7043 non-null   int64  \n",
      " 2   Number of Dependents  7043 non-null   int64  \n",
      " 3   Membership            3166 non-null   object \n",
      " 4   Satisfaction Score    7043 non-null   int64  \n",
      " 5   Tech services         7043 non-null   int64  \n",
      " 6   Streaming services    7043 non-null   int64  \n",
      " 7   Combined Product      7043 non-null   int64  \n",
      " 8   Contract              7043 non-null   object \n",
      " 9   Tenure in Months      7043 non-null   int64  \n",
      " 10  Monthly Charge        7043 non-null   float64\n",
      " 11  Total Revenue         7043 non-null   float64\n",
      " 12  Churn Value           7043 non-null   int64  \n",
      " 13  CLTV                  7043 non-null   int64  \n",
      " 14  Total Charges         7043 non-null   float64\n",
      "dtypes: float64(3), int64(9), object(3)\n",
      "memory usage: 825.5+ KB\n"
     ]
    }
   ],
   "source": [
    "df.info()"
   ]
  },
  {
   "cell_type": "code",
   "execution_count": 22,
   "id": "938aaa41",
   "metadata": {},
   "outputs": [],
   "source": [
    "# 'Membership' 컬럼의 결측치를 \"None\"으로 대체\n",
    "df['Membership'].fillna('None', inplace=True)"
   ]
  },
  {
   "cell_type": "code",
   "execution_count": 27,
   "id": "4a24b876",
   "metadata": {
    "scrolled": true
   },
   "outputs": [
    {
     "data": {
      "text/plain": [
       "6500"
      ]
     },
     "execution_count": 27,
     "metadata": {},
     "output_type": "execute_result"
    },
    {
     "data": {
      "text/plain": [
       "2003"
      ]
     },
     "execution_count": 27,
     "metadata": {},
     "output_type": "execute_result"
    }
   ],
   "source": [
    "df['CLTV'].sort_values().max()\n",
    "df['CLTV'].sort_values().min()"
   ]
  },
  {
   "cell_type": "markdown",
   "id": "639275de",
   "metadata": {},
   "source": [
    "## 고객 등급 분류 \n",
    "\n",
    "    CLTV\n",
    "    * 2000-4000: 저가치 고객\n",
    "    * 4001-6000: 잠재 이탈율이 큰 고객으로 우리가 눈여겨봐야할 고객층\n",
    "    * 6000 이상: 고가치 고객"
   ]
  },
  {
   "cell_type": "markdown",
   "id": "ce5df5fe",
   "metadata": {},
   "source": [
    "## 사용할 리텐션 마케팅 제안 함수 코드 부분 (Churn Value 제외 버전)\n",
    "\n",
    "    * 기업/개인 고객 분류 + 혜택 제안 적용되서 나오게 해보기"
   ]
  },
  {
   "cell_type": "code",
   "execution_count": 28,
   "id": "c58414ba",
   "metadata": {},
   "outputs": [
    {
     "name": "stdout",
     "output_type": "stream",
     "text": [
      "고객 번호를 입력하세요: 1658-BYGOY\n",
      "CLTV 낮은 저가치 개인 고객님 입니다. [업그레이드 or 맞춤형] 제안 가능합니다.\n"
     ]
    }
   ],
   "source": [
    "# input 함수는 주석 처리 해놓음.\n",
    "# 컬럼 설명 및 조건별 마케팅 제안 설명 B2B/B2C 로 나누어서 해놨는데 만약 잘못된 부분 있으면 알려주세요.\n",
    "\n",
    "def get_cltv_description(CLTV, total_revenue, tenure_months, num_dependents):\n",
    "    \"\"\"\n",
    "    ['CLTV']: Amount of total expected value per person that might contribute in the future.\n",
    "    ['total_revenue']: The total annual earnings from each customer.\n",
    "    ['tenure_months']: The duration for which each customer has retained their contracts.\n",
    "    ['num_dependent']: The number of children in family customers.\n",
    "    \n",
    "   # Loyalty Class Customers(CLTV 높은 고가치 고객층)\n",
    "   \n",
    "   (B2B)\n",
    "    - CLTV above 6000, total_revenue above $10,000\n",
    "    Marketing Suggestions:  '결합 할인 + 요금할인(20%)' 제안 가능\n",
    "    - CLTV between 5000 and 6000, total_revenue above $10,000\n",
    "    Marketing Suggestions: '결합 할인 + 요금할인(18%)' 제안 가능\n",
    "    - CLTV between 4000 and 5000, total_revenue between $6,000 and $10,000\n",
    "    Marketing Suggestions: '결합 할인 + 요금할인(15%)' 제안 가능\n",
    "    \n",
    "    (B2C)\n",
    "    - CLTV above 5000, tenure_months at least above 60 months, num_dependets above 0\n",
    "    Marketing Suggestions: '결합 할인 + 요금할인(10%)' 제안 가능\n",
    "    \n",
    "    \n",
    "    # Middle Class Customers (Potential customers who might churn)\n",
    "    \n",
    "    (B2B)\n",
    "    - CLTV between 5000 and 6000, total_revenue between $4,500 and $6,000\n",
    "    Marketing Suggestions: '요금 할인(13%)' 제안 가능\n",
    "    - CLTV between 4001 and 5000, total_revenue between $2,000 and $4,500\n",
    "    Marketing Suggestions: '요금 할인(10%)' 제안 가능\n",
    "    \n",
    "    (B2C)\n",
    "    - CLTV between 4000 and 6000, total_revenue tenure_months between 36months and 60months\n",
    "    Marketing Suggestions: '할인 혜택 or 업그레이드 or 맞춤형' 제안 가능\n",
    "    \n",
    "    \n",
    "    # Lower Class Customer, including exceptions\n",
    "    \n",
    "    (B2B) => Business clients who have lower CLTV, but unexpectedly higher total revenue.\n",
    "    - CLTV between 2000 and 4000, total_revenue above $6,000\n",
    "    Marketing Suggestions: '요금 할인(15%)' 제안 가능\n",
    "    - CLTV between 2000 and 4000, total_revenue between $4,000 and $6,000\n",
    "    Marketing Suggestions: '요금 할인(10%)' 제안 가능\n",
    "    \n",
    "    (B2C)\n",
    "    - CLTV below 4000, tenure_months between 24months and 36months\n",
    "    Marketing Suggestions: '할인 혜택 or 업그레이드 or 맞춤형' 제안 가능\n",
    "    - CLTV below 4000, tenure_months less than 24months\n",
    "    Marketing Suggestions: '업그레이드 or 맞춤형'제안 가능\n",
    "    # 경우의 수 추가 부분 \n",
    "     - CLTV above 4000, tenure_months less than 24months\n",
    "    Marketing Suggestions: '업그레이드 or 맞춤형'제안 가능\n",
    "    - CLTV between 2000 and 4000, tenure_months less than 24months\n",
    "     Marketing Suggestions: '제안할 마케팅 없음'\n",
    "\n",
    "    \"\"\"\n",
    "    \n",
    "    if CLTV >= 6000 and total_revenue >= 10000:\n",
    "        return \"CLTV 높은 고가치 기업 고객님 입니다. [결합 할인 + 요금할인(20%)] 제안 가능합니다.\"\n",
    "    elif 5000 <= CLTV < 6000 and total_revenue >= 10000:\n",
    "        return \"CLTV 높은 고가치 기업 고객님 입니다. [결합 할인 + 요금할인(18%)] 제안 가능합니다.\"\n",
    "    elif 4000 <= CLTV < 5000 and 6000 >= total_revenue < 10000:\n",
    "        return \"CLTV 높은 고가치 기업 고객님 입니다. [결합 할인 + 요금할인(15%)] 제안 가능합니다.\"\n",
    "    elif CLTV >= 5000 and tenure_months >= 60 and num_dependents > 0:\n",
    "        return \"CLTV 높은 고가치 개인 고객님 입니다. [결합 할인 + 요금할인(10%)] 제안 가능합니다.\"\n",
    "    elif 5000 <= CLTV < 6000 and 4500 <= total_revenue < 6000:\n",
    "        return \"CLTV 중간 가치 기업 고객님(잠재적 이탈 고객층) 입니다. [요금 할인(13%)] 제안 가능합니다.\"\n",
    "    elif 4001 <= CLTV < 5000 and 2000 <= total_revenue < 4500:\n",
    "        return \"CLTV 중간 가치 기업 고객님(잠재적 이탈 고객층) 입니다. [요금 할인(10%)] 제안 가능합니다.\"\n",
    "    elif 4000 <= CLTV < 6000 and 36 <= tenure_months < 60:\n",
    "        return \"CLTV 중간 가치 개인 고객님(잠재적 이탈 고객층) 입니다. [할인 혜택 or 업그레이드 or 맞춤형] 제안 가능합니다.\"\n",
    "    elif 2000 <= CLTV < 4000 and total_revenue >= 6000:\n",
    "        return \"CLTV 낮지만 수익 가치가 높은 기업 고객님 입니다. [요금 할인(15%)] 제안 가능합니다.\"\n",
    "    elif 2000 <= CLTV < 4000 and 4000 <= total_revenue < 6000:\n",
    "        return \"CLTV 낮지만 수익이 중간 가치인 기업 고객님 입니다. [요금 할인(10%)] 제안 가능합니다.\"\n",
    "    elif CLTV > 4000 and 24<= tenure_months < 36:\n",
    "        return \"CLTV 낮은 저가치 개인 고객님 입니다. [할인 혜택 or 업그레이드 or 맞춤형] 제안 가능합니다.\"\n",
    "    # 경우의 수 추가 부분 \n",
    "    elif CLTV <= 4000 and tenure_months < 24:\n",
    "        return \"CLTV 낮은 저가치 개인 고객님 입니다. [업그레이드 or 맞춤형] 제안 가능합니다.\"\n",
    "    elif 2000 <= CLTV < 4000 and tenure_months < 24:\n",
    "        return \"CLTV 낮은 저가치 개인 고객님 입니다. 제안할 마케팅 제안이 없습니다.\"        \n",
    "    else:\n",
    "        return \"제안할 마케팅 제안이 없습니다.\"\n",
    "\n",
    "def get_cltv_description_by_customer_id(df):\n",
    "    try:\n",
    "        customer_id = input(\"고객 번호를 입력하세요: \")  # 사용자로부터 고객 번호를 입력받음\n",
    "        customer_data = df[df['Customer ID'] == customer_id]\n",
    "        if customer_data.empty:\n",
    "            return \"고객 번호를 찾을 수 없습니다.\"\n",
    "        CLTV = customer_data['CLTV'].values[0]\n",
    "        total_revenue = customer_data['Total Revenue'].values[0]\n",
    "        tenure_months = customer_data['Tenure in Months'].values[0]\n",
    "        num_dependents = customer_data['Number of Dependents'].values[0]\n",
    "        description = get_cltv_description(CLTV, total_revenue, tenure_months, num_dependents)\n",
    "        return description\n",
    "    except IndexError:\n",
    "        return \"고객 번호를 찾을 수 없습니다.\"\n",
    "\n",
    "# 예시\n",
    "description = get_cltv_description_by_customer_id(df)\n",
    "print(description)"
   ]
  },
  {
   "cell_type": "code",
   "execution_count": null,
   "id": "f86b2a72",
   "metadata": {},
   "outputs": [],
   "source": []
  },
  {
   "cell_type": "code",
   "execution_count": null,
   "id": "b193fffc",
   "metadata": {},
   "outputs": [],
   "source": []
  }
 ],
 "metadata": {
  "kernelspec": {
   "display_name": "Python 3 (ipykernel)",
   "language": "python",
   "name": "python3"
  },
  "language_info": {
   "codemirror_mode": {
    "name": "ipython",
    "version": 3
   },
   "file_extension": ".py",
   "mimetype": "text/x-python",
   "name": "python",
   "nbconvert_exporter": "python",
   "pygments_lexer": "ipython3",
   "version": "3.9.13"
  },
  "toc": {
   "base_numbering": 1,
   "nav_menu": {},
   "number_sections": true,
   "sideBar": true,
   "skip_h1_title": true,
   "title_cell": "Table of Contents",
   "title_sidebar": "Contents",
   "toc_cell": true,
   "toc_position": {},
   "toc_section_display": true,
   "toc_window_display": true
  }
 },
 "nbformat": 4,
 "nbformat_minor": 5
}
