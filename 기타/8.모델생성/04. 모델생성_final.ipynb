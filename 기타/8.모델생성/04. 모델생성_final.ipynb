{
 "cells": [
  {
   "cell_type": "markdown",
   "id": "2e5c18fb",
   "metadata": {},
   "source": [
    "# 라이브러리 로드"
   ]
  },
  {
   "cell_type": "code",
   "execution_count": 1,
   "id": "415aeaf3",
   "metadata": {},
   "outputs": [],
   "source": [
    "%config Completer.use_jedi = False\n",
    "import pandas as pd\n",
    "import numpy as np\n",
    "import seaborn as sns\n",
    "import matplotlib.pyplot as plt\n",
    "from datetime import datetime\n",
    "from datetime import datetime, timedelta\n",
    "from dateutil.relativedelta import relativedelta\n",
    "import random\n",
    "import warnings\n",
    "warnings.filterwarnings('ignore')\n",
    "\n",
    "# 모델 생성\n",
    "from sklearn.model_selection import train_test_split\n",
    "from sklearn.preprocessing import MinMaxScaler\n",
    "from sklearn.linear_model import SGDClassifier\n",
    "from sklearn.metrics import accuracy_score\n",
    "from sklearn.metrics import f1_score\n",
    "from sklearn.metrics import precision_score, recall_score, f1_score\n",
    "from sklearn.metrics import classification_report\n",
    "\n",
    "\n",
    "# 노트북 안에 그래프를 그리기 위해\n",
    "%matplotlib inline\n",
    "\n",
    "# 그래프에서 마이너스 폰트 깨지는 문제에 대한 대처\n",
    "import matplotlib.pyplot as plt\n",
    "plt.rcParams['font.family'] = 'Malgun Gothic'\n"
   ]
  },
  {
   "cell_type": "code",
   "execution_count": 2,
   "id": "fddd1a24",
   "metadata": {},
   "outputs": [],
   "source": [
    "def churn_prediction(df):\n",
    "    \n",
    "    train_df = df.copy()\n",
    "    train_df = train_df.iloc[:,1:] # Customer ID 제외\n",
    "    \n",
    "    # 범주형 컬럼 One-Hot Encoding\n",
    "    encoding_df = pd.get_dummies(train_df, columns=['Membership', 'Contract'])\n",
    "\n",
    "    # 학습/테스트셋 분리\n",
    "    y_target = encoding_df['Churn Value']\n",
    "    X_data = encoding_df.drop(['Churn Value'], axis=1, inplace=False)\n",
    "\n",
    "    X_train, X_test, y_train, y_test = train_test_split(X_data, y_target, test_size=0.2, random_state=156)\n",
    "\n",
    "    # 학습 데이터셋(수치형 컬럼) 정규화\n",
    "    ## Initialize variable\n",
    "    X_train_origin, X_test_origin, y_train_origin, y_test_origin = X_train.copy(), X_test.copy(), y_train.copy(), y_test.copy()\n",
    "\n",
    "    ## Numeric Only\n",
    "    Numeric_column_list = []\n",
    "    for i in range(len(X_data.columns)):\n",
    "        if X_data[X_data.columns[i]].dtype == 'float64' or X_data[X_data.columns[i]].dtype == 'int64':\n",
    "            Numeric_column_list.append(X_data.columns[i])\n",
    "\n",
    "    numeric_train_data, numeric_test_data = X_train[Numeric_column_list], X_test[Numeric_column_list]\n",
    "\n",
    "    scaler = MinMaxScaler()\n",
    "\n",
    "    X_train[Numeric_column_list] = scaler.fit_transform(numeric_train_data)\n",
    "    X_test[Numeric_column_list] = scaler.transform(numeric_test_data)\n",
    "    \n",
    "\n",
    "    # 선정한 모델로 학습\n",
    "    best_model = SGDClassifier(random_state=42, alpha=0.001, loss='modified_huber',\n",
    "                               max_iter=100, penalty='l1', tol=1e-05)\n",
    "\n",
    "    best_model.fit(X_train, y_train)\n",
    "\n",
    "\n",
    "    # 예측 결과 저장\n",
    "    \n",
    "    result_df = df.copy()\n",
    "    result_df = result_df.iloc[:, 1:-1] # Customer ID, Churn Value 제외\n",
    "    \n",
    "    ## 범주형 컬럼 One-Hot Encoding\n",
    "    encoding_test_data = pd.get_dummies(result_df, columns=['Membership', 'Contract'])\n",
    "    \n",
    "    ## 정규화 (Numeric Only)\n",
    "    test_Numeric_column_list = []\n",
    "    for i in range(len(encoding_test_data.columns)):\n",
    "        if encoding_test_data[encoding_test_data.columns[i]].dtype == 'float64' or encoding_test_data[encoding_test_data.columns[i]].dtype == 'int64':\n",
    "            test_Numeric_column_list.append(encoding_test_data.columns[i])\n",
    "            \n",
    "    test_numeric_data = encoding_test_data[test_Numeric_column_list]\n",
    "\n",
    "    scaler = MinMaxScaler()\n",
    "\n",
    "    encoding_test_data[test_Numeric_column_list] = scaler.fit_transform(test_numeric_data)\n",
    "    final_test_data = encoding_test_data\n",
    "            \n",
    "    \n",
    "    # 최적의 모델을 사용하여 테스트 데이터의 클래스 확률을 예측합니다.\n",
    "    predicted_probabilities = best_model.predict_proba(final_test_data)\n",
    "\n",
    "    # 결과를 데이터프레임에 추가\n",
    "    df['이탈확률'] = predicted_probabilities[:, 1]*100  # 클래스 1의 확률을 선택\n",
    "\n",
    "\n",
    "    \n",
    "    return df"
   ]
  },
  {
   "cell_type": "markdown",
   "id": "a9b275b0",
   "metadata": {},
   "source": [
    "# 데이터 로드"
   ]
  },
  {
   "cell_type": "code",
   "execution_count": 3,
   "id": "5a1eec77",
   "metadata": {
    "scrolled": true
   },
   "outputs": [
    {
     "data": {
      "text/html": [
       "<div>\n",
       "<style scoped>\n",
       "    .dataframe tbody tr th:only-of-type {\n",
       "        vertical-align: middle;\n",
       "    }\n",
       "\n",
       "    .dataframe tbody tr th {\n",
       "        vertical-align: top;\n",
       "    }\n",
       "\n",
       "    .dataframe thead th {\n",
       "        text-align: right;\n",
       "    }\n",
       "</style>\n",
       "<table border=\"1\" class=\"dataframe\">\n",
       "  <thead>\n",
       "    <tr style=\"text-align: right;\">\n",
       "      <th></th>\n",
       "      <th>Customer ID</th>\n",
       "      <th>Age</th>\n",
       "      <th>Number of Dependents</th>\n",
       "      <th>Membership</th>\n",
       "      <th>Satisfaction Score</th>\n",
       "      <th>Tech services</th>\n",
       "      <th>Streaming services</th>\n",
       "      <th>Combined Product</th>\n",
       "      <th>Contract</th>\n",
       "      <th>Tenure in Months</th>\n",
       "      <th>Monthly Charge</th>\n",
       "      <th>Total Revenue</th>\n",
       "      <th>Churn Value</th>\n",
       "    </tr>\n",
       "  </thead>\n",
       "  <tbody>\n",
       "    <tr>\n",
       "      <th>0</th>\n",
       "      <td>8779-QRDMV</td>\n",
       "      <td>78</td>\n",
       "      <td>0</td>\n",
       "      <td>None</td>\n",
       "      <td>2</td>\n",
       "      <td>1</td>\n",
       "      <td>1</td>\n",
       "      <td>2</td>\n",
       "      <td>Month-to-Month</td>\n",
       "      <td>1</td>\n",
       "      <td>39.65</td>\n",
       "      <td>59.65</td>\n",
       "      <td>1</td>\n",
       "    </tr>\n",
       "    <tr>\n",
       "      <th>1</th>\n",
       "      <td>7495-OOKFY</td>\n",
       "      <td>74</td>\n",
       "      <td>1</td>\n",
       "      <td>Offer E</td>\n",
       "      <td>5</td>\n",
       "      <td>1</td>\n",
       "      <td>0</td>\n",
       "      <td>1</td>\n",
       "      <td>Month-to-Month</td>\n",
       "      <td>8</td>\n",
       "      <td>80.65</td>\n",
       "      <td>1024.10</td>\n",
       "      <td>1</td>\n",
       "    </tr>\n",
       "    <tr>\n",
       "      <th>2</th>\n",
       "      <td>1658-BYGOY</td>\n",
       "      <td>71</td>\n",
       "      <td>3</td>\n",
       "      <td>Offer D</td>\n",
       "      <td>3</td>\n",
       "      <td>0</td>\n",
       "      <td>2</td>\n",
       "      <td>1</td>\n",
       "      <td>Month-to-Month</td>\n",
       "      <td>18</td>\n",
       "      <td>95.45</td>\n",
       "      <td>1910.88</td>\n",
       "      <td>1</td>\n",
       "    </tr>\n",
       "    <tr>\n",
       "      <th>3</th>\n",
       "      <td>4598-XLKNJ</td>\n",
       "      <td>78</td>\n",
       "      <td>1</td>\n",
       "      <td>Offer C</td>\n",
       "      <td>3</td>\n",
       "      <td>2</td>\n",
       "      <td>2</td>\n",
       "      <td>1</td>\n",
       "      <td>Month-to-Month</td>\n",
       "      <td>25</td>\n",
       "      <td>98.50</td>\n",
       "      <td>2995.07</td>\n",
       "      <td>1</td>\n",
       "    </tr>\n",
       "    <tr>\n",
       "      <th>4</th>\n",
       "      <td>4846-WHAFZ</td>\n",
       "      <td>80</td>\n",
       "      <td>1</td>\n",
       "      <td>Offer C</td>\n",
       "      <td>1</td>\n",
       "      <td>0</td>\n",
       "      <td>0</td>\n",
       "      <td>1</td>\n",
       "      <td>Month-to-Month</td>\n",
       "      <td>37</td>\n",
       "      <td>76.50</td>\n",
       "      <td>3102.36</td>\n",
       "      <td>1</td>\n",
       "    </tr>\n",
       "  </tbody>\n",
       "</table>\n",
       "</div>"
      ],
      "text/plain": [
       "  Customer ID  Age  Number of Dependents Membership  Satisfaction Score  \\\n",
       "0  8779-QRDMV   78                     0       None                   2   \n",
       "1  7495-OOKFY   74                     1    Offer E                   5   \n",
       "2  1658-BYGOY   71                     3    Offer D                   3   \n",
       "3  4598-XLKNJ   78                     1    Offer C                   3   \n",
       "4  4846-WHAFZ   80                     1    Offer C                   1   \n",
       "\n",
       "   Tech services  Streaming services  Combined Product        Contract  \\\n",
       "0              1                   1                 2  Month-to-Month   \n",
       "1              1                   0                 1  Month-to-Month   \n",
       "2              0                   2                 1  Month-to-Month   \n",
       "3              2                   2                 1  Month-to-Month   \n",
       "4              0                   0                 1  Month-to-Month   \n",
       "\n",
       "   Tenure in Months  Monthly Charge  Total Revenue  Churn Value  \n",
       "0                 1           39.65          59.65            1  \n",
       "1                 8           80.65        1024.10            1  \n",
       "2                18           95.45        1910.88            1  \n",
       "3                25           98.50        2995.07            1  \n",
       "4                37           76.50        3102.36            1  "
      ]
     },
     "execution_count": 3,
     "metadata": {},
     "output_type": "execute_result"
    }
   ],
   "source": [
    "df = pd.read_excel(\"Churn_final.xlsx\")\n",
    "df.head()"
   ]
  },
  {
   "cell_type": "markdown",
   "id": "0bec6ea3",
   "metadata": {},
   "source": [
    "# 함수 호출"
   ]
  },
  {
   "cell_type": "code",
   "execution_count": 4,
   "id": "e9491530",
   "metadata": {},
   "outputs": [
    {
     "data": {
      "text/html": [
       "<div>\n",
       "<style scoped>\n",
       "    .dataframe tbody tr th:only-of-type {\n",
       "        vertical-align: middle;\n",
       "    }\n",
       "\n",
       "    .dataframe tbody tr th {\n",
       "        vertical-align: top;\n",
       "    }\n",
       "\n",
       "    .dataframe thead th {\n",
       "        text-align: right;\n",
       "    }\n",
       "</style>\n",
       "<table border=\"1\" class=\"dataframe\">\n",
       "  <thead>\n",
       "    <tr style=\"text-align: right;\">\n",
       "      <th></th>\n",
       "      <th>Customer ID</th>\n",
       "      <th>Age</th>\n",
       "      <th>Number of Dependents</th>\n",
       "      <th>Membership</th>\n",
       "      <th>Satisfaction Score</th>\n",
       "      <th>Tech services</th>\n",
       "      <th>Streaming services</th>\n",
       "      <th>Combined Product</th>\n",
       "      <th>Contract</th>\n",
       "      <th>Tenure in Months</th>\n",
       "      <th>Monthly Charge</th>\n",
       "      <th>Total Revenue</th>\n",
       "      <th>Churn Value</th>\n",
       "      <th>이탈확률</th>\n",
       "    </tr>\n",
       "  </thead>\n",
       "  <tbody>\n",
       "    <tr>\n",
       "      <th>0</th>\n",
       "      <td>8779-QRDMV</td>\n",
       "      <td>78</td>\n",
       "      <td>0</td>\n",
       "      <td>None</td>\n",
       "      <td>2</td>\n",
       "      <td>1</td>\n",
       "      <td>1</td>\n",
       "      <td>2</td>\n",
       "      <td>Month-to-Month</td>\n",
       "      <td>1</td>\n",
       "      <td>39.65</td>\n",
       "      <td>59.65</td>\n",
       "      <td>1</td>\n",
       "      <td>65.700984</td>\n",
       "    </tr>\n",
       "    <tr>\n",
       "      <th>1</th>\n",
       "      <td>7495-OOKFY</td>\n",
       "      <td>74</td>\n",
       "      <td>1</td>\n",
       "      <td>Offer E</td>\n",
       "      <td>5</td>\n",
       "      <td>1</td>\n",
       "      <td>0</td>\n",
       "      <td>1</td>\n",
       "      <td>Month-to-Month</td>\n",
       "      <td>8</td>\n",
       "      <td>80.65</td>\n",
       "      <td>1024.10</td>\n",
       "      <td>1</td>\n",
       "      <td>52.182243</td>\n",
       "    </tr>\n",
       "    <tr>\n",
       "      <th>2</th>\n",
       "      <td>1658-BYGOY</td>\n",
       "      <td>71</td>\n",
       "      <td>3</td>\n",
       "      <td>Offer D</td>\n",
       "      <td>3</td>\n",
       "      <td>0</td>\n",
       "      <td>2</td>\n",
       "      <td>1</td>\n",
       "      <td>Month-to-Month</td>\n",
       "      <td>18</td>\n",
       "      <td>95.45</td>\n",
       "      <td>1910.88</td>\n",
       "      <td>1</td>\n",
       "      <td>40.846450</td>\n",
       "    </tr>\n",
       "    <tr>\n",
       "      <th>3</th>\n",
       "      <td>4598-XLKNJ</td>\n",
       "      <td>78</td>\n",
       "      <td>1</td>\n",
       "      <td>Offer C</td>\n",
       "      <td>3</td>\n",
       "      <td>2</td>\n",
       "      <td>2</td>\n",
       "      <td>1</td>\n",
       "      <td>Month-to-Month</td>\n",
       "      <td>25</td>\n",
       "      <td>98.50</td>\n",
       "      <td>2995.07</td>\n",
       "      <td>1</td>\n",
       "      <td>56.178603</td>\n",
       "    </tr>\n",
       "    <tr>\n",
       "      <th>4</th>\n",
       "      <td>4846-WHAFZ</td>\n",
       "      <td>80</td>\n",
       "      <td>1</td>\n",
       "      <td>Offer C</td>\n",
       "      <td>1</td>\n",
       "      <td>0</td>\n",
       "      <td>0</td>\n",
       "      <td>1</td>\n",
       "      <td>Month-to-Month</td>\n",
       "      <td>37</td>\n",
       "      <td>76.50</td>\n",
       "      <td>3102.36</td>\n",
       "      <td>1</td>\n",
       "      <td>62.192832</td>\n",
       "    </tr>\n",
       "    <tr>\n",
       "      <th>...</th>\n",
       "      <td>...</td>\n",
       "      <td>...</td>\n",
       "      <td>...</td>\n",
       "      <td>...</td>\n",
       "      <td>...</td>\n",
       "      <td>...</td>\n",
       "      <td>...</td>\n",
       "      <td>...</td>\n",
       "      <td>...</td>\n",
       "      <td>...</td>\n",
       "      <td>...</td>\n",
       "      <td>...</td>\n",
       "      <td>...</td>\n",
       "      <td>...</td>\n",
       "    </tr>\n",
       "    <tr>\n",
       "      <th>7038</th>\n",
       "      <td>2569-WGERO</td>\n",
       "      <td>30</td>\n",
       "      <td>0</td>\n",
       "      <td>None</td>\n",
       "      <td>5</td>\n",
       "      <td>0</td>\n",
       "      <td>0</td>\n",
       "      <td>4</td>\n",
       "      <td>Two Year</td>\n",
       "      <td>72</td>\n",
       "      <td>21.15</td>\n",
       "      <td>3039.53</td>\n",
       "      <td>0</td>\n",
       "      <td>0.000000</td>\n",
       "    </tr>\n",
       "    <tr>\n",
       "      <th>7039</th>\n",
       "      <td>6840-RESVB</td>\n",
       "      <td>38</td>\n",
       "      <td>2</td>\n",
       "      <td>Offer C</td>\n",
       "      <td>5</td>\n",
       "      <td>3</td>\n",
       "      <td>2</td>\n",
       "      <td>2</td>\n",
       "      <td>One Year</td>\n",
       "      <td>24</td>\n",
       "      <td>84.80</td>\n",
       "      <td>2807.47</td>\n",
       "      <td>0</td>\n",
       "      <td>0.000000</td>\n",
       "    </tr>\n",
       "    <tr>\n",
       "      <th>7040</th>\n",
       "      <td>2234-XADUH</td>\n",
       "      <td>30</td>\n",
       "      <td>2</td>\n",
       "      <td>None</td>\n",
       "      <td>3</td>\n",
       "      <td>2</td>\n",
       "      <td>2</td>\n",
       "      <td>1</td>\n",
       "      <td>One Year</td>\n",
       "      <td>72</td>\n",
       "      <td>103.20</td>\n",
       "      <td>9453.04</td>\n",
       "      <td>0</td>\n",
       "      <td>0.000000</td>\n",
       "    </tr>\n",
       "    <tr>\n",
       "      <th>7041</th>\n",
       "      <td>4801-JZAZL</td>\n",
       "      <td>32</td>\n",
       "      <td>2</td>\n",
       "      <td>None</td>\n",
       "      <td>2</td>\n",
       "      <td>1</td>\n",
       "      <td>0</td>\n",
       "      <td>2</td>\n",
       "      <td>Month-to-Month</td>\n",
       "      <td>11</td>\n",
       "      <td>29.60</td>\n",
       "      <td>319.21</td>\n",
       "      <td>0</td>\n",
       "      <td>26.726435</td>\n",
       "    </tr>\n",
       "    <tr>\n",
       "      <th>7042</th>\n",
       "      <td>3186-AJIEK</td>\n",
       "      <td>44</td>\n",
       "      <td>0</td>\n",
       "      <td>None</td>\n",
       "      <td>3</td>\n",
       "      <td>4</td>\n",
       "      <td>2</td>\n",
       "      <td>1</td>\n",
       "      <td>Two Year</td>\n",
       "      <td>66</td>\n",
       "      <td>105.65</td>\n",
       "      <td>8887.86</td>\n",
       "      <td>0</td>\n",
       "      <td>0.000000</td>\n",
       "    </tr>\n",
       "  </tbody>\n",
       "</table>\n",
       "<p>7043 rows × 14 columns</p>\n",
       "</div>"
      ],
      "text/plain": [
       "     Customer ID  Age  Number of Dependents Membership  Satisfaction Score  \\\n",
       "0     8779-QRDMV   78                     0       None                   2   \n",
       "1     7495-OOKFY   74                     1    Offer E                   5   \n",
       "2     1658-BYGOY   71                     3    Offer D                   3   \n",
       "3     4598-XLKNJ   78                     1    Offer C                   3   \n",
       "4     4846-WHAFZ   80                     1    Offer C                   1   \n",
       "...          ...  ...                   ...        ...                 ...   \n",
       "7038  2569-WGERO   30                     0       None                   5   \n",
       "7039  6840-RESVB   38                     2    Offer C                   5   \n",
       "7040  2234-XADUH   30                     2       None                   3   \n",
       "7041  4801-JZAZL   32                     2       None                   2   \n",
       "7042  3186-AJIEK   44                     0       None                   3   \n",
       "\n",
       "      Tech services  Streaming services  Combined Product        Contract  \\\n",
       "0                 1                   1                 2  Month-to-Month   \n",
       "1                 1                   0                 1  Month-to-Month   \n",
       "2                 0                   2                 1  Month-to-Month   \n",
       "3                 2                   2                 1  Month-to-Month   \n",
       "4                 0                   0                 1  Month-to-Month   \n",
       "...             ...                 ...               ...             ...   \n",
       "7038              0                   0                 4        Two Year   \n",
       "7039              3                   2                 2        One Year   \n",
       "7040              2                   2                 1        One Year   \n",
       "7041              1                   0                 2  Month-to-Month   \n",
       "7042              4                   2                 1        Two Year   \n",
       "\n",
       "      Tenure in Months  Monthly Charge  Total Revenue  Churn Value       이탈확률  \n",
       "0                    1           39.65          59.65            1  65.700984  \n",
       "1                    8           80.65        1024.10            1  52.182243  \n",
       "2                   18           95.45        1910.88            1  40.846450  \n",
       "3                   25           98.50        2995.07            1  56.178603  \n",
       "4                   37           76.50        3102.36            1  62.192832  \n",
       "...                ...             ...            ...          ...        ...  \n",
       "7038                72           21.15        3039.53            0   0.000000  \n",
       "7039                24           84.80        2807.47            0   0.000000  \n",
       "7040                72          103.20        9453.04            0   0.000000  \n",
       "7041                11           29.60         319.21            0  26.726435  \n",
       "7042                66          105.65        8887.86            0   0.000000  \n",
       "\n",
       "[7043 rows x 14 columns]"
      ]
     },
     "execution_count": 4,
     "metadata": {},
     "output_type": "execute_result"
    }
   ],
   "source": [
    "result = churn_prediction(df)\n",
    "result"
   ]
  },
  {
   "cell_type": "markdown",
   "id": "0af6fd08",
   "metadata": {},
   "source": [
    "* 이탈확률 분포 확인"
   ]
  },
  {
   "cell_type": "code",
   "execution_count": 5,
   "id": "e1694a22",
   "metadata": {},
   "outputs": [
    {
     "data": {
      "text/plain": [
       "2198"
      ]
     },
     "execution_count": 5,
     "metadata": {},
     "output_type": "execute_result"
    }
   ],
   "source": [
    "count_of_zero = len(result[result['이탈확률'] == 0])\n",
    "count_of_zero"
   ]
  },
  {
   "cell_type": "code",
   "execution_count": 6,
   "id": "43982c55",
   "metadata": {
    "scrolled": false
   },
   "outputs": [
    {
     "data": {
      "text/plain": [
       "<AxesSubplot:xlabel='이탈확률', ylabel='Density'>"
      ]
     },
     "execution_count": 6,
     "metadata": {},
     "output_type": "execute_result"
    },
    {
     "data": {
      "image/png": "[encoded data removed]",
      "text/plain": [
       "<Figure size 640x480 with 1 Axes>"
      ]
     },
     "metadata": {},
     "output_type": "display_data"
    }
   ],
   "source": [
    "sns.distplot(result[\"이탈확률\"])"
   ]
  },
  {
   "cell_type": "code",
   "execution_count": 7,
   "id": "4a5e58ae",
   "metadata": {},
   "outputs": [
    {
     "data": {
      "text/plain": [
       "<AxesSubplot:xlabel='Satisfaction Score', ylabel='Density'>"
      ]
     },
     "execution_count": 7,
     "metadata": {},
     "output_type": "execute_result"
    },
    {
     "data": {
      "image/png": "[encoded data removed]",
      "text/plain": [
       "<Figure size 640x480 with 1 Axes>"
      ]
     },
     "metadata": {},
     "output_type": "display_data"
    }
   ],
   "source": [
    "sns.distplot(result[\"Satisfaction Score\"])"
   ]
  },
  {
   "cell_type": "code",
   "execution_count": 8,
   "id": "d346a2a7",
   "metadata": {
    "scrolled": true
   },
   "outputs": [
    {
     "data": {
      "text/plain": [
       "<AxesSubplot:xlabel='Satisfaction Score', ylabel='이탈확률'>"
      ]
     },
     "execution_count": 8,
     "metadata": {},
     "output_type": "execute_result"
    },
    {
     "data": {
      "image/png": "[encoded data removed]",
      "text/plain": [
       "<Figure size 1500x500 with 1 Axes>"
      ]
     },
     "metadata": {},
     "output_type": "display_data"
    }
   ],
   "source": [
    "# Satisfaction Score\n",
    "fig,(ax1)= plt.subplots(nrows=1)\n",
    "fig.set_size_inches(15,5)\n",
    "sns.barplot(data=result, x=\"Satisfaction Score\", y=\"이탈확률\", ax=ax1)"
   ]
  },
  {
   "cell_type": "code",
   "execution_count": 9,
   "id": "48c68c1c",
   "metadata": {
    "scrolled": true
   },
   "outputs": [
    {
     "data": {
      "text/plain": [
       "<AxesSubplot:xlabel='Contract', ylabel='이탈확률'>"
      ]
     },
     "execution_count": 9,
     "metadata": {},
     "output_type": "execute_result"
    },
    {
     "data": {
      "image/png": "[encoded data removed]",
      "text/plain": [
       "<Figure size 1500x500 with 1 Axes>"
      ]
     },
     "metadata": {},
     "output_type": "display_data"
    }
   ],
   "source": [
    "# Contract\n",
    "fig,(ax1)= plt.subplots(nrows=1)\n",
    "fig.set_size_inches(15,5)\n",
    "sns.barplot(data=result, x=\"Contract\", y=\"이탈확률\", ax=ax1)"
   ]
  },
  {
   "cell_type": "code",
   "execution_count": null,
   "id": "6b8d6daf",
   "metadata": {},
   "outputs": [],
   "source": []
  }
 ],
 "metadata": {
  "kernelspec": {
   "display_name": "Python 3 (ipykernel)",
   "language": "python",
   "name": "python3"
  },
  "language_info": {
   "codemirror_mode": {
    "name": "ipython",
    "version": 3
   },
   "file_extension": ".py",
   "mimetype": "text/x-python",
   "name": "python",
   "nbconvert_exporter": "python",
   "pygments_lexer": "ipython3",
   "version": "3.9.13"
  },
  "toc": {
   "base_numbering": 1,
   "nav_menu": {},
   "number_sections": true,
   "sideBar": true,
   "skip_h1_title": false,
   "title_cell": "Table of Contents",
   "title_sidebar": "Contents",
   "toc_cell": false,
   "toc_position": {},
   "toc_section_display": true,
   "toc_window_display": false
  }
 },
 "nbformat": 4,
 "nbformat_minor": 5
}
