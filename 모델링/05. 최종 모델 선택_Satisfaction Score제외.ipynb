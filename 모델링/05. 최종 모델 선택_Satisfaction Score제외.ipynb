{
 "cells": [
  {
   "cell_type": "markdown",
   "id": "f4fd402f",
   "metadata": {},
   "source": [
    "# 데이터 로드"
   ]
  },
  {
   "cell_type": "code",
   "execution_count": 1,
   "id": "415aeaf3",
   "metadata": {},
   "outputs": [],
   "source": [
    "%config Completer.use_jedi = False\n",
    "import pandas as pd\n",
    "import numpy as np\n",
    "import seaborn as sns\n",
    "import matplotlib.pyplot as plt\n",
    "from datetime import datetime\n",
    "from datetime import datetime, timedelta\n",
    "from dateutil.relativedelta import relativedelta\n",
    "import warnings\n",
    "warnings.filterwarnings('ignore')\n",
    "import random\n",
    "\n",
    "%matplotlib inline"
   ]
  },
  {
   "cell_type": "code",
   "execution_count": 2,
   "id": "43e8d338",
   "metadata": {
    "scrolled": true
   },
   "outputs": [
    {
     "name": "stdout",
     "output_type": "stream",
     "text": [
      "(7043, 13)\n"
     ]
    },
    {
     "data": {
      "text/html": [
       "<div>\n",
       "<style scoped>\n",
       "    .dataframe tbody tr th:only-of-type {\n",
       "        vertical-align: middle;\n",
       "    }\n",
       "\n",
       "    .dataframe tbody tr th {\n",
       "        vertical-align: top;\n",
       "    }\n",
       "\n",
       "    .dataframe thead th {\n",
       "        text-align: right;\n",
       "    }\n",
       "</style>\n",
       "<table border=\"1\" class=\"dataframe\">\n",
       "  <thead>\n",
       "    <tr style=\"text-align: right;\">\n",
       "      <th></th>\n",
       "      <th>Age</th>\n",
       "      <th>Age Group</th>\n",
       "      <th>Number of Dependents</th>\n",
       "      <th>Membership</th>\n",
       "      <th>Satisfaction Score</th>\n",
       "      <th>Tech services</th>\n",
       "      <th>Streaming services</th>\n",
       "      <th>Combined Product</th>\n",
       "      <th>Contract</th>\n",
       "      <th>Tenure in Months</th>\n",
       "      <th>Monthly Charge</th>\n",
       "      <th>Total Revenue</th>\n",
       "      <th>Churn Value</th>\n",
       "    </tr>\n",
       "  </thead>\n",
       "  <tbody>\n",
       "    <tr>\n",
       "      <th>0</th>\n",
       "      <td>78</td>\n",
       "      <td>70</td>\n",
       "      <td>0</td>\n",
       "      <td>None</td>\n",
       "      <td>3</td>\n",
       "      <td>1</td>\n",
       "      <td>1</td>\n",
       "      <td>2</td>\n",
       "      <td>Month-to-Month</td>\n",
       "      <td>1</td>\n",
       "      <td>39.65</td>\n",
       "      <td>59.65</td>\n",
       "      <td>1</td>\n",
       "    </tr>\n",
       "    <tr>\n",
       "      <th>1</th>\n",
       "      <td>74</td>\n",
       "      <td>70</td>\n",
       "      <td>1</td>\n",
       "      <td>Offer E</td>\n",
       "      <td>3</td>\n",
       "      <td>1</td>\n",
       "      <td>0</td>\n",
       "      <td>4</td>\n",
       "      <td>Month-to-Month</td>\n",
       "      <td>8</td>\n",
       "      <td>80.65</td>\n",
       "      <td>1024.10</td>\n",
       "      <td>1</td>\n",
       "    </tr>\n",
       "    <tr>\n",
       "      <th>2</th>\n",
       "      <td>71</td>\n",
       "      <td>70</td>\n",
       "      <td>3</td>\n",
       "      <td>Offer D</td>\n",
       "      <td>2</td>\n",
       "      <td>0</td>\n",
       "      <td>2</td>\n",
       "      <td>4</td>\n",
       "      <td>Month-to-Month</td>\n",
       "      <td>18</td>\n",
       "      <td>95.45</td>\n",
       "      <td>1910.88</td>\n",
       "      <td>1</td>\n",
       "    </tr>\n",
       "    <tr>\n",
       "      <th>3</th>\n",
       "      <td>78</td>\n",
       "      <td>70</td>\n",
       "      <td>1</td>\n",
       "      <td>Offer C</td>\n",
       "      <td>2</td>\n",
       "      <td>2</td>\n",
       "      <td>2</td>\n",
       "      <td>4</td>\n",
       "      <td>Month-to-Month</td>\n",
       "      <td>25</td>\n",
       "      <td>98.50</td>\n",
       "      <td>2995.07</td>\n",
       "      <td>1</td>\n",
       "    </tr>\n",
       "    <tr>\n",
       "      <th>4</th>\n",
       "      <td>80</td>\n",
       "      <td>80</td>\n",
       "      <td>1</td>\n",
       "      <td>Offer C</td>\n",
       "      <td>2</td>\n",
       "      <td>0</td>\n",
       "      <td>0</td>\n",
       "      <td>4</td>\n",
       "      <td>Month-to-Month</td>\n",
       "      <td>37</td>\n",
       "      <td>76.50</td>\n",
       "      <td>3102.36</td>\n",
       "      <td>1</td>\n",
       "    </tr>\n",
       "  </tbody>\n",
       "</table>\n",
       "</div>"
      ],
      "text/plain": [
       "   Age  Age Group  Number of Dependents Membership  Satisfaction Score  \\\n",
       "0   78         70                     0       None                   3   \n",
       "1   74         70                     1    Offer E                   3   \n",
       "2   71         70                     3    Offer D                   2   \n",
       "3   78         70                     1    Offer C                   2   \n",
       "4   80         80                     1    Offer C                   2   \n",
       "\n",
       "   Tech services  Streaming services  Combined Product        Contract  \\\n",
       "0              1                   1                 2  Month-to-Month   \n",
       "1              1                   0                 4  Month-to-Month   \n",
       "2              0                   2                 4  Month-to-Month   \n",
       "3              2                   2                 4  Month-to-Month   \n",
       "4              0                   0                 4  Month-to-Month   \n",
       "\n",
       "   Tenure in Months  Monthly Charge  Total Revenue  Churn Value  \n",
       "0                 1           39.65          59.65            1  \n",
       "1                 8           80.65        1024.10            1  \n",
       "2                18           95.45        1910.88            1  \n",
       "3                25           98.50        2995.07            1  \n",
       "4                37           76.50        3102.36            1  "
      ]
     },
     "execution_count": 2,
     "metadata": {},
     "output_type": "execute_result"
    }
   ],
   "source": [
    "df = pd.read_excel(\"Churn.xlsx\")\n",
    "print(df.shape)\n",
    "df.head()"
   ]
  },
  {
   "cell_type": "markdown",
   "id": "9dcec8fd",
   "metadata": {},
   "source": [
    "# 전처리"
   ]
  },
  {
   "cell_type": "markdown",
   "id": "a4e74e98",
   "metadata": {},
   "source": [
    "## Label Encoding"
   ]
  },
  {
   "cell_type": "code",
   "execution_count": 3,
   "id": "ff7014ca",
   "metadata": {
    "scrolled": false
   },
   "outputs": [
    {
     "data": {
      "text/html": [
       "<div>\n",
       "<style scoped>\n",
       "    .dataframe tbody tr th:only-of-type {\n",
       "        vertical-align: middle;\n",
       "    }\n",
       "\n",
       "    .dataframe tbody tr th {\n",
       "        vertical-align: top;\n",
       "    }\n",
       "\n",
       "    .dataframe thead th {\n",
       "        text-align: right;\n",
       "    }\n",
       "</style>\n",
       "<table border=\"1\" class=\"dataframe\">\n",
       "  <thead>\n",
       "    <tr style=\"text-align: right;\">\n",
       "      <th></th>\n",
       "      <th>Age</th>\n",
       "      <th>Age Group</th>\n",
       "      <th>Number of Dependents</th>\n",
       "      <th>Membership</th>\n",
       "      <th>Satisfaction Score</th>\n",
       "      <th>Tech services</th>\n",
       "      <th>Streaming services</th>\n",
       "      <th>Combined Product</th>\n",
       "      <th>Contract</th>\n",
       "      <th>Tenure in Months</th>\n",
       "      <th>Monthly Charge</th>\n",
       "      <th>Total Revenue</th>\n",
       "      <th>Churn Value</th>\n",
       "    </tr>\n",
       "  </thead>\n",
       "  <tbody>\n",
       "    <tr>\n",
       "      <th>0</th>\n",
       "      <td>78</td>\n",
       "      <td>70</td>\n",
       "      <td>0</td>\n",
       "      <td>0</td>\n",
       "      <td>3</td>\n",
       "      <td>1</td>\n",
       "      <td>1</td>\n",
       "      <td>2</td>\n",
       "      <td>1</td>\n",
       "      <td>1</td>\n",
       "      <td>39.65</td>\n",
       "      <td>59.65</td>\n",
       "      <td>1</td>\n",
       "    </tr>\n",
       "    <tr>\n",
       "      <th>1</th>\n",
       "      <td>74</td>\n",
       "      <td>70</td>\n",
       "      <td>1</td>\n",
       "      <td>5</td>\n",
       "      <td>3</td>\n",
       "      <td>1</td>\n",
       "      <td>0</td>\n",
       "      <td>4</td>\n",
       "      <td>1</td>\n",
       "      <td>8</td>\n",
       "      <td>80.65</td>\n",
       "      <td>1024.10</td>\n",
       "      <td>1</td>\n",
       "    </tr>\n",
       "    <tr>\n",
       "      <th>2</th>\n",
       "      <td>71</td>\n",
       "      <td>70</td>\n",
       "      <td>3</td>\n",
       "      <td>4</td>\n",
       "      <td>2</td>\n",
       "      <td>0</td>\n",
       "      <td>2</td>\n",
       "      <td>4</td>\n",
       "      <td>1</td>\n",
       "      <td>18</td>\n",
       "      <td>95.45</td>\n",
       "      <td>1910.88</td>\n",
       "      <td>1</td>\n",
       "    </tr>\n",
       "    <tr>\n",
       "      <th>3</th>\n",
       "      <td>78</td>\n",
       "      <td>70</td>\n",
       "      <td>1</td>\n",
       "      <td>3</td>\n",
       "      <td>2</td>\n",
       "      <td>2</td>\n",
       "      <td>2</td>\n",
       "      <td>4</td>\n",
       "      <td>1</td>\n",
       "      <td>25</td>\n",
       "      <td>98.50</td>\n",
       "      <td>2995.07</td>\n",
       "      <td>1</td>\n",
       "    </tr>\n",
       "    <tr>\n",
       "      <th>4</th>\n",
       "      <td>80</td>\n",
       "      <td>80</td>\n",
       "      <td>1</td>\n",
       "      <td>3</td>\n",
       "      <td>2</td>\n",
       "      <td>0</td>\n",
       "      <td>0</td>\n",
       "      <td>4</td>\n",
       "      <td>1</td>\n",
       "      <td>37</td>\n",
       "      <td>76.50</td>\n",
       "      <td>3102.36</td>\n",
       "      <td>1</td>\n",
       "    </tr>\n",
       "    <tr>\n",
       "      <th>...</th>\n",
       "      <td>...</td>\n",
       "      <td>...</td>\n",
       "      <td>...</td>\n",
       "      <td>...</td>\n",
       "      <td>...</td>\n",
       "      <td>...</td>\n",
       "      <td>...</td>\n",
       "      <td>...</td>\n",
       "      <td>...</td>\n",
       "      <td>...</td>\n",
       "      <td>...</td>\n",
       "      <td>...</td>\n",
       "      <td>...</td>\n",
       "    </tr>\n",
       "    <tr>\n",
       "      <th>7038</th>\n",
       "      <td>30</td>\n",
       "      <td>30</td>\n",
       "      <td>0</td>\n",
       "      <td>0</td>\n",
       "      <td>5</td>\n",
       "      <td>0</td>\n",
       "      <td>0</td>\n",
       "      <td>1</td>\n",
       "      <td>24</td>\n",
       "      <td>72</td>\n",
       "      <td>21.15</td>\n",
       "      <td>3039.53</td>\n",
       "      <td>0</td>\n",
       "    </tr>\n",
       "    <tr>\n",
       "      <th>7039</th>\n",
       "      <td>38</td>\n",
       "      <td>30</td>\n",
       "      <td>2</td>\n",
       "      <td>3</td>\n",
       "      <td>3</td>\n",
       "      <td>3</td>\n",
       "      <td>2</td>\n",
       "      <td>2</td>\n",
       "      <td>12</td>\n",
       "      <td>24</td>\n",
       "      <td>84.80</td>\n",
       "      <td>2807.47</td>\n",
       "      <td>0</td>\n",
       "    </tr>\n",
       "    <tr>\n",
       "      <th>7040</th>\n",
       "      <td>30</td>\n",
       "      <td>30</td>\n",
       "      <td>2</td>\n",
       "      <td>0</td>\n",
       "      <td>4</td>\n",
       "      <td>2</td>\n",
       "      <td>2</td>\n",
       "      <td>4</td>\n",
       "      <td>12</td>\n",
       "      <td>72</td>\n",
       "      <td>103.20</td>\n",
       "      <td>9453.04</td>\n",
       "      <td>0</td>\n",
       "    </tr>\n",
       "    <tr>\n",
       "      <th>7041</th>\n",
       "      <td>32</td>\n",
       "      <td>30</td>\n",
       "      <td>2</td>\n",
       "      <td>0</td>\n",
       "      <td>4</td>\n",
       "      <td>1</td>\n",
       "      <td>0</td>\n",
       "      <td>2</td>\n",
       "      <td>1</td>\n",
       "      <td>11</td>\n",
       "      <td>29.60</td>\n",
       "      <td>319.21</td>\n",
       "      <td>0</td>\n",
       "    </tr>\n",
       "    <tr>\n",
       "      <th>7042</th>\n",
       "      <td>44</td>\n",
       "      <td>40</td>\n",
       "      <td>0</td>\n",
       "      <td>0</td>\n",
       "      <td>4</td>\n",
       "      <td>4</td>\n",
       "      <td>2</td>\n",
       "      <td>4</td>\n",
       "      <td>24</td>\n",
       "      <td>66</td>\n",
       "      <td>105.65</td>\n",
       "      <td>8887.86</td>\n",
       "      <td>0</td>\n",
       "    </tr>\n",
       "  </tbody>\n",
       "</table>\n",
       "<p>7043 rows × 13 columns</p>\n",
       "</div>"
      ],
      "text/plain": [
       "      Age  Age Group  Number of Dependents  Membership  Satisfaction Score  \\\n",
       "0      78         70                     0           0                   3   \n",
       "1      74         70                     1           5                   3   \n",
       "2      71         70                     3           4                   2   \n",
       "3      78         70                     1           3                   2   \n",
       "4      80         80                     1           3                   2   \n",
       "...   ...        ...                   ...         ...                 ...   \n",
       "7038   30         30                     0           0                   5   \n",
       "7039   38         30                     2           3                   3   \n",
       "7040   30         30                     2           0                   4   \n",
       "7041   32         30                     2           0                   4   \n",
       "7042   44         40                     0           0                   4   \n",
       "\n",
       "      Tech services  Streaming services  Combined Product  Contract  \\\n",
       "0                 1                   1                 2         1   \n",
       "1                 1                   0                 4         1   \n",
       "2                 0                   2                 4         1   \n",
       "3                 2                   2                 4         1   \n",
       "4                 0                   0                 4         1   \n",
       "...             ...                 ...               ...       ...   \n",
       "7038              0                   0                 1        24   \n",
       "7039              3                   2                 2        12   \n",
       "7040              2                   2                 4        12   \n",
       "7041              1                   0                 2         1   \n",
       "7042              4                   2                 4        24   \n",
       "\n",
       "      Tenure in Months  Monthly Charge  Total Revenue  Churn Value  \n",
       "0                    1           39.65          59.65            1  \n",
       "1                    8           80.65        1024.10            1  \n",
       "2                   18           95.45        1910.88            1  \n",
       "3                   25           98.50        2995.07            1  \n",
       "4                   37           76.50        3102.36            1  \n",
       "...                ...             ...            ...          ...  \n",
       "7038                72           21.15        3039.53            0  \n",
       "7039                24           84.80        2807.47            0  \n",
       "7040                72          103.20        9453.04            0  \n",
       "7041                11           29.60         319.21            0  \n",
       "7042                66          105.65        8887.86            0  \n",
       "\n",
       "[7043 rows x 13 columns]"
      ]
     },
     "execution_count": 3,
     "metadata": {},
     "output_type": "execute_result"
    }
   ],
   "source": [
    "df['Membership'] = df['Membership'].map({'None': 0, 'Offer A': 1, 'Offer B': 2, 'Offer C': 3, 'Offer D': 4, 'Offer E': 5})\n",
    "df['Contract'] = df['Contract'].map({'Month-to-Month': 1, 'One Year': 12, 'Two Year': 24}) \n",
    "\n",
    "df"
   ]
  },
  {
   "cell_type": "markdown",
   "id": "047c9421",
   "metadata": {},
   "source": [
    "## 정규화"
   ]
  },
  {
   "cell_type": "code",
   "execution_count": 4,
   "id": "4e572096",
   "metadata": {
    "scrolled": true
   },
   "outputs": [
    {
     "data": {
      "text/html": [
       "<div>\n",
       "<style scoped>\n",
       "    .dataframe tbody tr th:only-of-type {\n",
       "        vertical-align: middle;\n",
       "    }\n",
       "\n",
       "    .dataframe tbody tr th {\n",
       "        vertical-align: top;\n",
       "    }\n",
       "\n",
       "    .dataframe thead th {\n",
       "        text-align: right;\n",
       "    }\n",
       "</style>\n",
       "<table border=\"1\" class=\"dataframe\">\n",
       "  <thead>\n",
       "    <tr style=\"text-align: right;\">\n",
       "      <th></th>\n",
       "      <th>Age</th>\n",
       "      <th>Age Group</th>\n",
       "      <th>Number of Dependents</th>\n",
       "      <th>Membership</th>\n",
       "      <th>Satisfaction Score</th>\n",
       "      <th>Tech services</th>\n",
       "      <th>Streaming services</th>\n",
       "      <th>Combined Product</th>\n",
       "      <th>Contract</th>\n",
       "      <th>Tenure in Months</th>\n",
       "      <th>Monthly Charge</th>\n",
       "      <th>Total Revenue</th>\n",
       "      <th>Churn Value</th>\n",
       "    </tr>\n",
       "  </thead>\n",
       "  <tbody>\n",
       "    <tr>\n",
       "      <th>0</th>\n",
       "      <td>0.967213</td>\n",
       "      <td>0.857143</td>\n",
       "      <td>0.000000</td>\n",
       "      <td>0.0</td>\n",
       "      <td>0.50</td>\n",
       "      <td>0.25</td>\n",
       "      <td>0.5</td>\n",
       "      <td>0.333333</td>\n",
       "      <td>0.000000</td>\n",
       "      <td>0.000000</td>\n",
       "      <td>0.212935</td>\n",
       "      <td>0.003202</td>\n",
       "      <td>1</td>\n",
       "    </tr>\n",
       "    <tr>\n",
       "      <th>1</th>\n",
       "      <td>0.901639</td>\n",
       "      <td>0.857143</td>\n",
       "      <td>0.111111</td>\n",
       "      <td>1.0</td>\n",
       "      <td>0.50</td>\n",
       "      <td>0.25</td>\n",
       "      <td>0.0</td>\n",
       "      <td>1.000000</td>\n",
       "      <td>0.000000</td>\n",
       "      <td>0.098592</td>\n",
       "      <td>0.620896</td>\n",
       "      <td>0.083855</td>\n",
       "      <td>1</td>\n",
       "    </tr>\n",
       "    <tr>\n",
       "      <th>2</th>\n",
       "      <td>0.852459</td>\n",
       "      <td>0.857143</td>\n",
       "      <td>0.333333</td>\n",
       "      <td>0.8</td>\n",
       "      <td>0.25</td>\n",
       "      <td>0.00</td>\n",
       "      <td>1.0</td>\n",
       "      <td>1.000000</td>\n",
       "      <td>0.000000</td>\n",
       "      <td>0.239437</td>\n",
       "      <td>0.768159</td>\n",
       "      <td>0.158013</td>\n",
       "      <td>1</td>\n",
       "    </tr>\n",
       "    <tr>\n",
       "      <th>3</th>\n",
       "      <td>0.967213</td>\n",
       "      <td>0.857143</td>\n",
       "      <td>0.111111</td>\n",
       "      <td>0.6</td>\n",
       "      <td>0.25</td>\n",
       "      <td>0.50</td>\n",
       "      <td>1.0</td>\n",
       "      <td>1.000000</td>\n",
       "      <td>0.000000</td>\n",
       "      <td>0.338028</td>\n",
       "      <td>0.798507</td>\n",
       "      <td>0.248680</td>\n",
       "      <td>1</td>\n",
       "    </tr>\n",
       "    <tr>\n",
       "      <th>4</th>\n",
       "      <td>1.000000</td>\n",
       "      <td>1.000000</td>\n",
       "      <td>0.111111</td>\n",
       "      <td>0.6</td>\n",
       "      <td>0.25</td>\n",
       "      <td>0.00</td>\n",
       "      <td>0.0</td>\n",
       "      <td>1.000000</td>\n",
       "      <td>0.000000</td>\n",
       "      <td>0.507042</td>\n",
       "      <td>0.579602</td>\n",
       "      <td>0.257652</td>\n",
       "      <td>1</td>\n",
       "    </tr>\n",
       "    <tr>\n",
       "      <th>...</th>\n",
       "      <td>...</td>\n",
       "      <td>...</td>\n",
       "      <td>...</td>\n",
       "      <td>...</td>\n",
       "      <td>...</td>\n",
       "      <td>...</td>\n",
       "      <td>...</td>\n",
       "      <td>...</td>\n",
       "      <td>...</td>\n",
       "      <td>...</td>\n",
       "      <td>...</td>\n",
       "      <td>...</td>\n",
       "      <td>...</td>\n",
       "    </tr>\n",
       "    <tr>\n",
       "      <th>7038</th>\n",
       "      <td>0.180328</td>\n",
       "      <td>0.285714</td>\n",
       "      <td>0.000000</td>\n",
       "      <td>0.0</td>\n",
       "      <td>1.00</td>\n",
       "      <td>0.00</td>\n",
       "      <td>0.0</td>\n",
       "      <td>0.000000</td>\n",
       "      <td>1.000000</td>\n",
       "      <td>1.000000</td>\n",
       "      <td>0.028856</td>\n",
       "      <td>0.252398</td>\n",
       "      <td>0</td>\n",
       "    </tr>\n",
       "    <tr>\n",
       "      <th>7039</th>\n",
       "      <td>0.311475</td>\n",
       "      <td>0.285714</td>\n",
       "      <td>0.222222</td>\n",
       "      <td>0.6</td>\n",
       "      <td>0.50</td>\n",
       "      <td>0.75</td>\n",
       "      <td>1.0</td>\n",
       "      <td>0.333333</td>\n",
       "      <td>0.478261</td>\n",
       "      <td>0.323944</td>\n",
       "      <td>0.662189</td>\n",
       "      <td>0.232992</td>\n",
       "      <td>0</td>\n",
       "    </tr>\n",
       "    <tr>\n",
       "      <th>7040</th>\n",
       "      <td>0.180328</td>\n",
       "      <td>0.285714</td>\n",
       "      <td>0.222222</td>\n",
       "      <td>0.0</td>\n",
       "      <td>0.75</td>\n",
       "      <td>0.50</td>\n",
       "      <td>1.0</td>\n",
       "      <td>1.000000</td>\n",
       "      <td>0.478261</td>\n",
       "      <td>1.000000</td>\n",
       "      <td>0.845274</td>\n",
       "      <td>0.788735</td>\n",
       "      <td>0</td>\n",
       "    </tr>\n",
       "    <tr>\n",
       "      <th>7041</th>\n",
       "      <td>0.213115</td>\n",
       "      <td>0.285714</td>\n",
       "      <td>0.222222</td>\n",
       "      <td>0.0</td>\n",
       "      <td>0.75</td>\n",
       "      <td>0.25</td>\n",
       "      <td>0.0</td>\n",
       "      <td>0.333333</td>\n",
       "      <td>0.000000</td>\n",
       "      <td>0.140845</td>\n",
       "      <td>0.112935</td>\n",
       "      <td>0.024908</td>\n",
       "      <td>0</td>\n",
       "    </tr>\n",
       "    <tr>\n",
       "      <th>7042</th>\n",
       "      <td>0.409836</td>\n",
       "      <td>0.428571</td>\n",
       "      <td>0.000000</td>\n",
       "      <td>0.0</td>\n",
       "      <td>0.75</td>\n",
       "      <td>1.00</td>\n",
       "      <td>1.0</td>\n",
       "      <td>1.000000</td>\n",
       "      <td>1.000000</td>\n",
       "      <td>0.915493</td>\n",
       "      <td>0.869652</td>\n",
       "      <td>0.741471</td>\n",
       "      <td>0</td>\n",
       "    </tr>\n",
       "  </tbody>\n",
       "</table>\n",
       "<p>7043 rows × 13 columns</p>\n",
       "</div>"
      ],
      "text/plain": [
       "           Age  Age Group  Number of Dependents  Membership  \\\n",
       "0     0.967213   0.857143              0.000000         0.0   \n",
       "1     0.901639   0.857143              0.111111         1.0   \n",
       "2     0.852459   0.857143              0.333333         0.8   \n",
       "3     0.967213   0.857143              0.111111         0.6   \n",
       "4     1.000000   1.000000              0.111111         0.6   \n",
       "...        ...        ...                   ...         ...   \n",
       "7038  0.180328   0.285714              0.000000         0.0   \n",
       "7039  0.311475   0.285714              0.222222         0.6   \n",
       "7040  0.180328   0.285714              0.222222         0.0   \n",
       "7041  0.213115   0.285714              0.222222         0.0   \n",
       "7042  0.409836   0.428571              0.000000         0.0   \n",
       "\n",
       "      Satisfaction Score  Tech services  Streaming services  Combined Product  \\\n",
       "0                   0.50           0.25                 0.5          0.333333   \n",
       "1                   0.50           0.25                 0.0          1.000000   \n",
       "2                   0.25           0.00                 1.0          1.000000   \n",
       "3                   0.25           0.50                 1.0          1.000000   \n",
       "4                   0.25           0.00                 0.0          1.000000   \n",
       "...                  ...            ...                 ...               ...   \n",
       "7038                1.00           0.00                 0.0          0.000000   \n",
       "7039                0.50           0.75                 1.0          0.333333   \n",
       "7040                0.75           0.50                 1.0          1.000000   \n",
       "7041                0.75           0.25                 0.0          0.333333   \n",
       "7042                0.75           1.00                 1.0          1.000000   \n",
       "\n",
       "      Contract  Tenure in Months  Monthly Charge  Total Revenue  Churn Value  \n",
       "0     0.000000          0.000000        0.212935       0.003202            1  \n",
       "1     0.000000          0.098592        0.620896       0.083855            1  \n",
       "2     0.000000          0.239437        0.768159       0.158013            1  \n",
       "3     0.000000          0.338028        0.798507       0.248680            1  \n",
       "4     0.000000          0.507042        0.579602       0.257652            1  \n",
       "...        ...               ...             ...            ...          ...  \n",
       "7038  1.000000          1.000000        0.028856       0.252398            0  \n",
       "7039  0.478261          0.323944        0.662189       0.232992            0  \n",
       "7040  0.478261          1.000000        0.845274       0.788735            0  \n",
       "7041  0.000000          0.140845        0.112935       0.024908            0  \n",
       "7042  1.000000          0.915493        0.869652       0.741471            0  \n",
       "\n",
       "[7043 rows x 13 columns]"
      ]
     },
     "execution_count": 4,
     "metadata": {},
     "output_type": "execute_result"
    }
   ],
   "source": [
    "from sklearn.preprocessing import MinMaxScaler\n",
    "\n",
    "final_df = df.copy()\n",
    "\n",
    "scaled_cols = df.columns[:-1]\n",
    "\n",
    "# MinMaxScaler를 사용한 정규화\n",
    "scaler = MinMaxScaler()\n",
    "final_df[scaled_cols] = scaler.fit_transform(final_df[scaled_cols])\n",
    "final_df"
   ]
  },
  {
   "cell_type": "markdown",
   "id": "62d45894",
   "metadata": {},
   "source": [
    "# 학습/테스트셋 분리"
   ]
  },
  {
   "cell_type": "code",
   "execution_count": 5,
   "id": "d11beec0",
   "metadata": {},
   "outputs": [],
   "source": [
    "from sklearn.model_selection import train_test_split\n",
    "\n",
    "y_target = final_df['Churn Value']\n",
    "X_data = final_df.drop(['Churn Value', 'Age Group', 'Satisfaction Score'],axis=1,inplace=False)\n",
    "\n",
    "X_train , X_test , y_train , y_test = train_test_split(X_data , y_target ,test_size=0.2, random_state=156)\n"
   ]
  },
  {
   "cell_type": "markdown",
   "id": "04304a42",
   "metadata": {},
   "source": [
    "# 모델 학습"
   ]
  },
  {
   "cell_type": "markdown",
   "id": "535b0517",
   "metadata": {},
   "source": [
    "## RandomForest"
   ]
  },
  {
   "cell_type": "markdown",
   "id": "bab5a0bc",
   "metadata": {},
   "source": [
    "* cv = 2로 학습"
   ]
  },
  {
   "cell_type": "code",
   "execution_count": 6,
   "id": "4538c564",
   "metadata": {},
   "outputs": [
    {
     "name": "stdout",
     "output_type": "stream",
     "text": [
      "최적 하이퍼 파라미터:\n",
      " {'max_depth': 6, 'min_samples_leaf': 8, 'min_samples_split': 20, 'n_estimators': 100}\n",
      "최고 예측 정확도: 0.8245\n"
     ]
    }
   ],
   "source": [
    "from sklearn.ensemble import RandomForestClassifier\n",
    "from sklearn.model_selection import GridSearchCV\n",
    "\n",
    "rf_clf = RandomForestClassifier(random_state=42)\n",
    "\n",
    "params = {\n",
    "    'n_estimators':[100], # 결정 트리 개수 지정\n",
    "    'max_depth' : [6, 8, 10, 12], # 트리의 최대 깊이 지정\n",
    "    'min_samples_leaf' : [8, 12, 18 ], # 분할된 경우 왼쪽, 오른쪽의 브랜치 노드에서 가져가야 할 최소한의 샘플 데이터 수\n",
    "    'min_samples_split' : [8, 16, 20] # 노드를 분할하기 위한 최소한의 샘플 데이터 수 => 과적합 제어\n",
    "}\n",
    "# RandomForestClassifier 객체 생성 후 GridSearchCV 수행\n",
    "rf_grid_cv = GridSearchCV(rf_clf , param_grid=params , cv=2, n_jobs=-1 )\n",
    "rf_grid_cv.fit(X_train , y_train)\n",
    "\n",
    "print('최적 하이퍼 파라미터:\\n', rf_grid_cv.best_params_)\n",
    "print('최고 예측 정확도: {0:.4f}'.format(rf_grid_cv.best_score_))"
   ]
  },
  {
   "cell_type": "code",
   "execution_count": 7,
   "id": "d0b3e574",
   "metadata": {},
   "outputs": [
    {
     "data": {
      "image/png": "[encoded data removed]",
      "text/plain": [
       "<Figure size 800x500 with 1 Axes>"
      ]
     },
     "metadata": {},
     "output_type": "display_data"
    }
   ],
   "source": [
    "best_rf_model = rf_grid_cv.best_estimator_\n",
    "\n",
    "best_rf_model.fit(X_train , y_train)\n",
    "feature_names = final_df.columns[:-1]\n",
    "\n",
    "# 학습된 모델을 사용하여 피처 중요도를 얻습니다.\n",
    "feature_importances = best_rf_model.feature_importances_\n",
    "\n",
    "# 피처 중요도를 기준으로 내림차순으로 정렬합니다.\n",
    "sorted_idx = np.argsort(feature_importances)[::-1]\n",
    "sorted_feature_names = [feature_names[i] for i in sorted_idx]\n",
    "sorted_feature_importances = feature_importances[sorted_idx]\n",
    "\n",
    "# 피처 중요도를 시각화합니다.\n",
    "plt.figure(figsize=(8, 5))\n",
    "sns.barplot(x=sorted_feature_importances, y=sorted_feature_names)\n",
    "plt.title(\"Feature Importances (Sorted)\")\n",
    "plt.xlabel(\"Importance\")\n",
    "plt.ylabel(\"Features\")\n",
    "plt.xticks(rotation=90)\n",
    "plt.show()"
   ]
  },
  {
   "cell_type": "markdown",
   "id": "159f92ca",
   "metadata": {},
   "source": [
    "* cv = 2~5로 학습했을 때 정확도"
   ]
  },
  {
   "cell_type": "code",
   "execution_count": 8,
   "id": "8a8fbcc9",
   "metadata": {
    "scrolled": false
   },
   "outputs": [
    {
     "data": {
      "text/html": [
       "<div>\n",
       "<style scoped>\n",
       "    .dataframe tbody tr th:only-of-type {\n",
       "        vertical-align: middle;\n",
       "    }\n",
       "\n",
       "    .dataframe tbody tr th {\n",
       "        vertical-align: top;\n",
       "    }\n",
       "\n",
       "    .dataframe thead th {\n",
       "        text-align: right;\n",
       "    }\n",
       "</style>\n",
       "<table border=\"1\" class=\"dataframe\">\n",
       "  <thead>\n",
       "    <tr style=\"text-align: right;\">\n",
       "      <th></th>\n",
       "      <th>cv</th>\n",
       "      <th>best_params</th>\n",
       "      <th>best_score</th>\n",
       "    </tr>\n",
       "  </thead>\n",
       "  <tbody>\n",
       "    <tr>\n",
       "      <th>0</th>\n",
       "      <td>2</td>\n",
       "      <td>{'max_depth': 6, 'min_samples_leaf': 8, 'min_s...</td>\n",
       "      <td>0.824459</td>\n",
       "    </tr>\n",
       "    <tr>\n",
       "      <th>1</th>\n",
       "      <td>3</td>\n",
       "      <td>{'max_depth': 10, 'min_samples_leaf': 8, 'min_...</td>\n",
       "      <td>0.826234</td>\n",
       "    </tr>\n",
       "    <tr>\n",
       "      <th>2</th>\n",
       "      <td>4</td>\n",
       "      <td>{'max_depth': 8, 'min_samples_leaf': 18, 'min_...</td>\n",
       "      <td>0.826235</td>\n",
       "    </tr>\n",
       "    <tr>\n",
       "      <th>3</th>\n",
       "      <td>5</td>\n",
       "      <td>{'max_depth': 6, 'min_samples_leaf': 12, 'min_...</td>\n",
       "      <td>0.826413</td>\n",
       "    </tr>\n",
       "  </tbody>\n",
       "</table>\n",
       "</div>"
      ],
      "text/plain": [
       "  cv                                        best_params  best_score\n",
       "0  2  {'max_depth': 6, 'min_samples_leaf': 8, 'min_s...    0.824459\n",
       "1  3  {'max_depth': 10, 'min_samples_leaf': 8, 'min_...    0.826234\n",
       "2  4  {'max_depth': 8, 'min_samples_leaf': 18, 'min_...    0.826235\n",
       "3  5  {'max_depth': 6, 'min_samples_leaf': 12, 'min_...    0.826413"
      ]
     },
     "execution_count": 8,
     "metadata": {},
     "output_type": "execute_result"
    }
   ],
   "source": [
    "from sklearn.ensemble import RandomForestClassifier\n",
    "from sklearn.model_selection import GridSearchCV\n",
    "import pandas as pd\n",
    "\n",
    "# cv 값 리스트 정의\n",
    "cv_values = [2, 3, 4, 5]\n",
    "\n",
    "# 결과를 저장할 데이터프레임 생성\n",
    "cv_results = pd.DataFrame(columns=['cv', 'best_params', 'best_score'])\n",
    "\n",
    "for cv in cv_values:\n",
    "    # RandomForestClassifier 모델 생성\n",
    "    rf_clf = RandomForestClassifier(random_state=42)\n",
    "\n",
    "    # GridSearchCV 수행\n",
    "    params = {'n_estimators': [100],\n",
    "              'max_depth': [6, 8, 10, 12],\n",
    "              'min_samples_leaf': [8, 12, 18],\n",
    "              'min_samples_split': [8, 16, 20]}\n",
    "    \n",
    "    rf_grid_cv = GridSearchCV(rf_clf, param_grid=params, cv=cv, n_jobs=-1)\n",
    "    rf_grid_cv.fit(X_train, y_train)\n",
    "\n",
    "    # 결과 저장\n",
    "    cv_results = cv_results.append({'cv': cv,\n",
    "                                    'best_params': rf_grid_cv.best_params_,\n",
    "                                    'best_score': rf_grid_cv.best_score_}, ignore_index=True)\n",
    "\n",
    "cv_results"
   ]
  },
  {
   "cell_type": "markdown",
   "id": "c9843f9e",
   "metadata": {},
   "source": [
    "* cv = 5로 학습"
   ]
  },
  {
   "cell_type": "code",
   "execution_count": 9,
   "id": "01a011ae",
   "metadata": {},
   "outputs": [
    {
     "name": "stdout",
     "output_type": "stream",
     "text": [
      "최적 하이퍼 파라미터:\n",
      " {'max_depth': 6, 'min_samples_leaf': 12, 'min_samples_split': 8, 'n_estimators': 100}\n",
      "최고 예측 정확도: 0.8264\n"
     ]
    }
   ],
   "source": [
    "from sklearn.ensemble import RandomForestClassifier\n",
    "from sklearn.model_selection import GridSearchCV\n",
    "\n",
    "rf_clf = RandomForestClassifier(random_state=42)\n",
    "\n",
    "params = {\n",
    "    'n_estimators':[100], # 결정 트리 개수 지정\n",
    "    'max_depth' : [6, 8, 10, 12], # 트리의 최대 깊이 지정\n",
    "    'min_samples_leaf' : [8, 12, 18 ], # 분할된 경우 왼쪽, 오른쪽의 브랜치 노드에서 가져가야 할 최소한의 샘플 데이터 수\n",
    "    'min_samples_split' : [8, 16, 20] # 노드를 분할하기 위한 최소한의 샘플 데이터 수 => 과적합 제어\n",
    "}\n",
    "# RandomForestClassifier 객체 생성 후 GridSearchCV 수행\n",
    "rf_grid_cv = GridSearchCV(rf_clf , param_grid=params , cv=5, n_jobs=-1 )\n",
    "rf_grid_cv.fit(X_train , y_train)\n",
    "\n",
    "print('최적 하이퍼 파라미터:\\n', rf_grid_cv.best_params_)\n",
    "print('최고 예측 정확도: {0:.4f}'.format(rf_grid_cv.best_score_))"
   ]
  },
  {
   "cell_type": "code",
   "execution_count": 10,
   "id": "0e252260",
   "metadata": {},
   "outputs": [
    {
     "data": {
      "image/png": "[encoded data removed]",
      "text/plain": [
       "<Figure size 800x500 with 1 Axes>"
      ]
     },
     "metadata": {},
     "output_type": "display_data"
    }
   ],
   "source": [
    "best_rf_model = rf_grid_cv.best_estimator_\n",
    "\n",
    "best_rf_model.fit(X_train , y_train)\n",
    "feature_names = final_df.columns[:-1]\n",
    "\n",
    "# 학습된 모델을 사용하여 피처 중요도를 얻습니다.\n",
    "feature_importances = best_rf_model.feature_importances_\n",
    "\n",
    "# 피처 중요도를 기준으로 내림차순으로 정렬합니다.\n",
    "sorted_idx = np.argsort(feature_importances)[::-1]\n",
    "sorted_feature_names = [feature_names[i] for i in sorted_idx]\n",
    "sorted_feature_importances = feature_importances[sorted_idx]\n",
    "\n",
    "# 피처 중요도를 시각화합니다.\n",
    "plt.figure(figsize=(8, 5))\n",
    "sns.barplot(x=sorted_feature_importances, y=sorted_feature_names)\n",
    "plt.title(\"Feature Importances (Sorted)\")\n",
    "plt.xlabel(\"Importance\")\n",
    "plt.ylabel(\"Features\")\n",
    "plt.xticks(rotation=90)\n",
    "plt.show()"
   ]
  },
  {
   "cell_type": "markdown",
   "id": "8545ccf3",
   "metadata": {},
   "source": [
    "## DecisionTree"
   ]
  },
  {
   "cell_type": "markdown",
   "id": "b86c8754",
   "metadata": {},
   "source": [
    "* cv = 2로 학습"
   ]
  },
  {
   "cell_type": "code",
   "execution_count": 11,
   "id": "4bfb98e2",
   "metadata": {},
   "outputs": [
    {
     "name": "stdout",
     "output_type": "stream",
     "text": [
      "최적 하이퍼 파라미터:\n",
      " {'max_depth': 5, 'min_samples_leaf': 1, 'min_samples_split': 2}\n",
      "최고 예측 정확도: 0.8060\n"
     ]
    }
   ],
   "source": [
    "from sklearn.tree import DecisionTreeClassifier\n",
    "from sklearn.model_selection import GridSearchCV\n",
    "\n",
    "dt_clf = DecisionTreeClassifier(random_state=42)\n",
    "\n",
    "parameters = {'max_depth':[2, 3, 5, 10],\n",
    "             'min_samples_split':[2, 3, 5],\n",
    "             'min_samples_leaf':[1, 5, 8]}\n",
    "\n",
    "# DecisionTreeClassifier 객체 생성 후 GridSearchCV 수행\n",
    "dt_grid_cv = GridSearchCV(dt_clf , param_grid=parameters , cv=2, n_jobs=-1 )\n",
    "dt_grid_cv.fit(X_train , y_train)\n",
    "\n",
    "print('최적 하이퍼 파라미터:\\n', dt_grid_cv.best_params_)\n",
    "print('최고 예측 정확도: {0:.4f}'.format(dt_grid_cv.best_score_))"
   ]
  },
  {
   "cell_type": "code",
   "execution_count": 12,
   "id": "8baaad07",
   "metadata": {
    "scrolled": true
   },
   "outputs": [
    {
     "data": {
      "image/png": "[encoded data removed]",
      "text/plain": [
       "<Figure size 800x500 with 1 Axes>"
      ]
     },
     "metadata": {},
     "output_type": "display_data"
    }
   ],
   "source": [
    "best_dt_model = dt_grid_cv.best_estimator_\n",
    "\n",
    "best_dt_model.fit(X_train , y_train)\n",
    "feature_names = final_df.columns[:-1]\n",
    "\n",
    "# 학습된 모델을 사용하여 피처 중요도를 얻습니다.\n",
    "feature_importances = best_dt_model.feature_importances_\n",
    "\n",
    "# 피처 중요도를 기준으로 내림차순으로 정렬합니다.\n",
    "sorted_idx = np.argsort(feature_importances)[::-1]\n",
    "sorted_feature_names = [feature_names[i] for i in sorted_idx]\n",
    "sorted_feature_importances = feature_importances[sorted_idx]\n",
    "\n",
    "# 피처 중요도를 시각화합니다.\n",
    "plt.figure(figsize=(8, 5))\n",
    "sns.barplot(x=sorted_feature_importances, y=sorted_feature_names)\n",
    "plt.title(\"Feature Importances (Sorted)\")\n",
    "plt.xlabel(\"Importance\")\n",
    "plt.ylabel(\"Features\")\n",
    "plt.xticks(rotation=90)\n",
    "plt.show()"
   ]
  },
  {
   "cell_type": "markdown",
   "id": "33dffb4e",
   "metadata": {},
   "source": [
    "* cv = 2~5로 학습했을 때의 정확도"
   ]
  },
  {
   "cell_type": "code",
   "execution_count": 13,
   "id": "2011d246",
   "metadata": {},
   "outputs": [
    {
     "data": {
      "text/html": [
       "<div>\n",
       "<style scoped>\n",
       "    .dataframe tbody tr th:only-of-type {\n",
       "        vertical-align: middle;\n",
       "    }\n",
       "\n",
       "    .dataframe tbody tr th {\n",
       "        vertical-align: top;\n",
       "    }\n",
       "\n",
       "    .dataframe thead th {\n",
       "        text-align: right;\n",
       "    }\n",
       "</style>\n",
       "<table border=\"1\" class=\"dataframe\">\n",
       "  <thead>\n",
       "    <tr style=\"text-align: right;\">\n",
       "      <th></th>\n",
       "      <th>cv</th>\n",
       "      <th>best_params</th>\n",
       "      <th>best_score</th>\n",
       "    </tr>\n",
       "  </thead>\n",
       "  <tbody>\n",
       "    <tr>\n",
       "      <th>0</th>\n",
       "      <td>2</td>\n",
       "      <td>{'max_depth': 5, 'min_samples_leaf': 1, 'min_s...</td>\n",
       "      <td>0.805999</td>\n",
       "    </tr>\n",
       "    <tr>\n",
       "      <th>1</th>\n",
       "      <td>3</td>\n",
       "      <td>{'max_depth': 5, 'min_samples_leaf': 8, 'min_s...</td>\n",
       "      <td>0.814874</td>\n",
       "    </tr>\n",
       "    <tr>\n",
       "      <th>2</th>\n",
       "      <td>4</td>\n",
       "      <td>{'max_depth': 5, 'min_samples_leaf': 5, 'min_s...</td>\n",
       "      <td>0.817893</td>\n",
       "    </tr>\n",
       "    <tr>\n",
       "      <th>3</th>\n",
       "      <td>5</td>\n",
       "      <td>{'max_depth': 5, 'min_samples_leaf': 1, 'min_s...</td>\n",
       "      <td>0.816118</td>\n",
       "    </tr>\n",
       "  </tbody>\n",
       "</table>\n",
       "</div>"
      ],
      "text/plain": [
       "  cv                                        best_params  best_score\n",
       "0  2  {'max_depth': 5, 'min_samples_leaf': 1, 'min_s...    0.805999\n",
       "1  3  {'max_depth': 5, 'min_samples_leaf': 8, 'min_s...    0.814874\n",
       "2  4  {'max_depth': 5, 'min_samples_leaf': 5, 'min_s...    0.817893\n",
       "3  5  {'max_depth': 5, 'min_samples_leaf': 1, 'min_s...    0.816118"
      ]
     },
     "execution_count": 13,
     "metadata": {},
     "output_type": "execute_result"
    }
   ],
   "source": [
    "import pandas as pd\n",
    "\n",
    "# cv 값 리스트 정의\n",
    "cv_values = [2, 3, 4, 5]\n",
    "\n",
    "# 결과를 저장할 데이터프레임 생성\n",
    "cv_results = pd.DataFrame(columns=['cv', 'best_params', 'best_score'])\n",
    "\n",
    "for cv in cv_values:\n",
    "    # DecisionTreeClassifier 모델 생성\n",
    "    dt_clf = DecisionTreeClassifier(random_state=42)\n",
    "\n",
    "    # GridSearchCV 수행\n",
    "    parameters = {'max_depth': [2, 3, 5, 10],\n",
    "                  'min_samples_split': [2, 3, 5],\n",
    "                  'min_samples_leaf': [1, 5, 8]}\n",
    "    \n",
    "    dt_grid_cv = GridSearchCV(dt_clf, param_grid=parameters, cv=cv, n_jobs=-1)\n",
    "    dt_grid_cv.fit(X_train, y_train)\n",
    "\n",
    "    # 결과 저장\n",
    "    cv_results = cv_results.append({'cv': cv,\n",
    "                                    'best_params': dt_grid_cv.best_params_,\n",
    "                                    'best_score': dt_grid_cv.best_score_}, ignore_index=True)\n",
    "\n",
    "cv_results"
   ]
  },
  {
   "cell_type": "markdown",
   "id": "c9f1307b",
   "metadata": {},
   "source": [
    "* cv = 4로 학습"
   ]
  },
  {
   "cell_type": "code",
   "execution_count": 14,
   "id": "bcdfb43b",
   "metadata": {},
   "outputs": [
    {
     "name": "stdout",
     "output_type": "stream",
     "text": [
      "최적 하이퍼 파라미터:\n",
      " {'max_depth': 5, 'min_samples_leaf': 5, 'min_samples_split': 2}\n",
      "최고 예측 정확도: 0.8179\n"
     ]
    }
   ],
   "source": [
    "from sklearn.tree import DecisionTreeClassifier\n",
    "from sklearn.model_selection import GridSearchCV\n",
    "\n",
    "dt_clf = DecisionTreeClassifier(random_state=42)\n",
    "\n",
    "parameters = {'max_depth':[2, 3, 5, 10],\n",
    "             'min_samples_split':[2, 3, 5],\n",
    "             'min_samples_leaf':[1, 5, 8]}\n",
    "\n",
    "# DecisionTreeClassifier 객체 생성 후 GridSearchCV 수행\n",
    "dt_grid_cv = GridSearchCV(dt_clf , param_grid=parameters , cv=4, n_jobs=-1 )\n",
    "dt_grid_cv.fit(X_train , y_train)\n",
    "\n",
    "print('최적 하이퍼 파라미터:\\n', dt_grid_cv.best_params_)\n",
    "print('최고 예측 정확도: {0:.4f}'.format(dt_grid_cv.best_score_))"
   ]
  },
  {
   "cell_type": "code",
   "execution_count": 15,
   "id": "4ec57c2d",
   "metadata": {},
   "outputs": [
    {
     "data": {
      "image/png": "[encoded data removed]",
      "text/plain": [
       "<Figure size 800x500 with 1 Axes>"
      ]
     },
     "metadata": {},
     "output_type": "display_data"
    }
   ],
   "source": [
    "best_dt_model = dt_grid_cv.best_estimator_\n",
    "\n",
    "best_dt_model.fit(X_train , y_train)\n",
    "feature_names = final_df.columns[:-1]\n",
    "\n",
    "# 학습된 모델을 사용하여 피처 중요도를 얻습니다.\n",
    "feature_importances = best_dt_model.feature_importances_\n",
    "\n",
    "# 피처 중요도를 기준으로 내림차순으로 정렬합니다.\n",
    "sorted_idx = np.argsort(feature_importances)[::-1]\n",
    "sorted_feature_names = [feature_names[i] for i in sorted_idx]\n",
    "sorted_feature_importances = feature_importances[sorted_idx]\n",
    "\n",
    "# 피처 중요도를 시각화합니다.\n",
    "plt.figure(figsize=(8, 5))\n",
    "sns.barplot(x=sorted_feature_importances, y=sorted_feature_names)\n",
    "plt.title(\"Feature Importances (Sorted)\")\n",
    "plt.xlabel(\"Importance\")\n",
    "plt.ylabel(\"Features\")\n",
    "plt.xticks(rotation=90)\n",
    "plt.show()"
   ]
  },
  {
   "cell_type": "markdown",
   "id": "710ed824",
   "metadata": {},
   "source": [
    "## GradientBoosting"
   ]
  },
  {
   "cell_type": "markdown",
   "id": "a74c2493",
   "metadata": {},
   "source": [
    "* cv = 2로 학습"
   ]
  },
  {
   "cell_type": "code",
   "execution_count": 16,
   "id": "e5e868a2",
   "metadata": {},
   "outputs": [
    {
     "name": "stdout",
     "output_type": "stream",
     "text": [
      "최적 하이퍼 파라미터:\n",
      " {'learning_rate': 0.030897922387365898, 'max_depth': 6, 'min_samples_leaf': 20, 'min_samples_split': 8, 'n_estimators': 100}\n",
      "최고 예측 정확도: 0.8287\n"
     ]
    }
   ],
   "source": [
    "from sklearn.ensemble import GradientBoostingClassifier\n",
    "from sklearn.model_selection import GridSearchCV\n",
    "\n",
    "gb_clf = GradientBoostingClassifier(random_state=42)\n",
    "\n",
    "# 랜덤 시드 설정\n",
    "random_seed = 42\n",
    "np.random.seed(random_seed)\n",
    "\n",
    "params = {\n",
    "    'n_estimators':[100], # 결정 트리 개수 지정\n",
    "    'max_depth' : [6, 8, 10, 12], # 트리의 최대 깊이 지정\n",
    "    'min_samples_leaf' : [8, 12, 18,20,24 ], # 분할된 경우 왼족, 오른쪽의 브랜치 노드에서 가져가야 할 최소한의 샘플 데이터 수\n",
    "    'min_samples_split' : [8, 16, 20,22,26], # 노드를 분할하기 위한 최소한의 샘플 데이터 수 => 과적합 제어\n",
    "     'learning_rate' :[random.uniform(0.01, 0.1) for _ in range(5)]    \n",
    "}\n",
    "\n",
    "\n",
    "gb_grid_cv = GridSearchCV(gb_clf , param_grid=params , cv=2, n_jobs=-1 )\n",
    "gb_grid_cv.fit(X_train , y_train)\n",
    "\n",
    "print('최적 하이퍼 파라미터:\\n', gb_grid_cv.best_params_)\n",
    "print('최고 예측 정확도: {0:.4f}'.format(gb_grid_cv.best_score_))"
   ]
  },
  {
   "cell_type": "code",
   "execution_count": 17,
   "id": "e18fca5c",
   "metadata": {
    "scrolled": true
   },
   "outputs": [
    {
     "data": {
      "image/png": "[encoded data removed]",
      "text/plain": [
       "<Figure size 800x500 with 1 Axes>"
      ]
     },
     "metadata": {},
     "output_type": "display_data"
    }
   ],
   "source": [
    "best_gb_model = gb_grid_cv.best_estimator_\n",
    "\n",
    "best_gb_model.fit(X_train , y_train)\n",
    "feature_names = final_df.columns[:-1]\n",
    "\n",
    "# 학습된 모델을 사용하여 피처 중요도를 얻습니다.\n",
    "feature_importances = best_gb_model.feature_importances_\n",
    "\n",
    "# 피처 중요도를 기준으로 내림차순으로 정렬합니다.\n",
    "sorted_idx = np.argsort(feature_importances)[::-1]\n",
    "sorted_feature_names = [feature_names[i] for i in sorted_idx]\n",
    "sorted_feature_importances = feature_importances[sorted_idx]\n",
    "\n",
    "# 피처 중요도를 시각화합니다.\n",
    "plt.figure(figsize=(8, 5))\n",
    "sns.barplot(x=sorted_feature_importances, y=sorted_feature_names)\n",
    "plt.title(\"Feature Importances (Sorted)\")\n",
    "plt.xlabel(\"Importance\")\n",
    "plt.ylabel(\"Features\")\n",
    "plt.xticks(rotation=90)\n",
    "plt.show()"
   ]
  },
  {
   "cell_type": "markdown",
   "id": "093a7a26",
   "metadata": {},
   "source": [
    "## XGBoost"
   ]
  },
  {
   "cell_type": "markdown",
   "id": "fc23f9b2",
   "metadata": {},
   "source": [
    "* cv = 2로 학습"
   ]
  },
  {
   "cell_type": "code",
   "execution_count": 18,
   "id": "dd1c7901",
   "metadata": {},
   "outputs": [
    {
     "name": "stdout",
     "output_type": "stream",
     "text": [
      "최적 하이퍼 파라미터:\n",
      " {'learning_rate': 0.1, 'max_depth': 3, 'min_child_weight': 4, 'n_estimators': 100}\n",
      "최고 예측 정확도: 0.8312\n"
     ]
    }
   ],
   "source": [
    "from xgboost import XGBClassifier\n",
    "from sklearn.model_selection import GridSearchCV\n",
    "import random\n",
    "\n",
    "XG_clf = XGBClassifier(random_state=101, objective='binary:logistic')\n",
    "\n",
    "params = {'n_estimators':[100,200,300,400], \n",
    "           'learning_rate' :[0.1, 0.2, 0.3, 0.4],\n",
    "          'min_child_weight' : [1,2,3,4,5],\n",
    "          'max_depth' : [1,2,3,4,5]}\n",
    "\n",
    "xg_grid_cv = GridSearchCV(XG_clf , param_grid=params , cv=2, n_jobs=-1 )\n",
    "xg_grid_cv.fit(X_train , y_train)\n",
    "\n",
    "print('최적 하이퍼 파라미터:\\n', xg_grid_cv.best_params_)\n",
    "print('최고 예측 정확도: {0:.4f}'.format(xg_grid_cv.best_score_))"
   ]
  },
  {
   "cell_type": "code",
   "execution_count": 19,
   "id": "b43c920e",
   "metadata": {
    "scrolled": true
   },
   "outputs": [
    {
     "data": {
      "image/png": "[encoded data removed]",
      "text/plain": [
       "<Figure size 800x500 with 1 Axes>"
      ]
     },
     "metadata": {},
     "output_type": "display_data"
    }
   ],
   "source": [
    "best_xg_model = xg_grid_cv.best_estimator_\n",
    "\n",
    "best_xg_model.fit(X_train , y_train)\n",
    "feature_names = final_df.columns[:-1]\n",
    "\n",
    "# 학습된 모델을 사용하여 피처 중요도를 얻습니다.\n",
    "feature_importances = best_xg_model.feature_importances_\n",
    "\n",
    "# 피처 중요도를 기준으로 내림차순으로 정렬합니다.\n",
    "sorted_idx = np.argsort(feature_importances)[::-1]\n",
    "sorted_feature_names = [feature_names[i] for i in sorted_idx]\n",
    "sorted_feature_importances = feature_importances[sorted_idx]\n",
    "\n",
    "# 피처 중요도를 시각화합니다.\n",
    "plt.figure(figsize=(8, 5))\n",
    "sns.barplot(x=sorted_feature_importances, y=sorted_feature_names)\n",
    "plt.title(\"Feature Importances (Sorted)\")\n",
    "plt.xlabel(\"Importance\")\n",
    "plt.ylabel(\"Features\")\n",
    "plt.xticks(rotation=90)\n",
    "plt.show()"
   ]
  },
  {
   "cell_type": "markdown",
   "id": "9615cc0d",
   "metadata": {},
   "source": [
    "* cv = 2~5로 학습했을 때의 정확도"
   ]
  },
  {
   "cell_type": "code",
   "execution_count": 20,
   "id": "1cdc2842",
   "metadata": {},
   "outputs": [
    {
     "data": {
      "text/html": [
       "<div>\n",
       "<style scoped>\n",
       "    .dataframe tbody tr th:only-of-type {\n",
       "        vertical-align: middle;\n",
       "    }\n",
       "\n",
       "    .dataframe tbody tr th {\n",
       "        vertical-align: top;\n",
       "    }\n",
       "\n",
       "    .dataframe thead th {\n",
       "        text-align: right;\n",
       "    }\n",
       "</style>\n",
       "<table border=\"1\" class=\"dataframe\">\n",
       "  <thead>\n",
       "    <tr style=\"text-align: right;\">\n",
       "      <th></th>\n",
       "      <th>cv</th>\n",
       "      <th>best_params</th>\n",
       "      <th>best_score</th>\n",
       "    </tr>\n",
       "  </thead>\n",
       "  <tbody>\n",
       "    <tr>\n",
       "      <th>0</th>\n",
       "      <td>2</td>\n",
       "      <td>{'learning_rate': 0.1, 'max_depth': 3, 'min_ch...</td>\n",
       "      <td>0.831203</td>\n",
       "    </tr>\n",
       "    <tr>\n",
       "      <th>1</th>\n",
       "      <td>3</td>\n",
       "      <td>{'learning_rate': 0.1, 'max_depth': 2, 'min_ch...</td>\n",
       "      <td>0.829783</td>\n",
       "    </tr>\n",
       "    <tr>\n",
       "      <th>2</th>\n",
       "      <td>4</td>\n",
       "      <td>{'learning_rate': 0.3, 'max_depth': 2, 'min_ch...</td>\n",
       "      <td>0.831737</td>\n",
       "    </tr>\n",
       "    <tr>\n",
       "      <th>3</th>\n",
       "      <td>5</td>\n",
       "      <td>{'learning_rate': 0.1, 'max_depth': 3, 'min_ch...</td>\n",
       "      <td>0.830670</td>\n",
       "    </tr>\n",
       "  </tbody>\n",
       "</table>\n",
       "</div>"
      ],
      "text/plain": [
       "  cv                                        best_params  best_score\n",
       "0  2  {'learning_rate': 0.1, 'max_depth': 3, 'min_ch...    0.831203\n",
       "1  3  {'learning_rate': 0.1, 'max_depth': 2, 'min_ch...    0.829783\n",
       "2  4  {'learning_rate': 0.3, 'max_depth': 2, 'min_ch...    0.831737\n",
       "3  5  {'learning_rate': 0.1, 'max_depth': 3, 'min_ch...    0.830670"
      ]
     },
     "execution_count": 20,
     "metadata": {},
     "output_type": "execute_result"
    }
   ],
   "source": [
    "import pandas as pd\n",
    "from xgboost import XGBClassifier\n",
    "from sklearn.model_selection import GridSearchCV\n",
    "\n",
    "# cv 값 리스트 정의\n",
    "cv_values = [2, 3, 4, 5]\n",
    "\n",
    "# 결과를 저장할 데이터프레임 생성\n",
    "cv_results = pd.DataFrame(columns=['cv', 'best_params', 'best_score'])\n",
    "\n",
    "for cv in cv_values:\n",
    "    # XGBoostClassifier 모델 생성\n",
    "    XG_clf = XGBClassifier(random_state=101, objective='binary:logistic')\n",
    "\n",
    "    # GridSearchCV 수행\n",
    "    params = {'n_estimators': [100, 200, 300, 400],\n",
    "              'learning_rate': [0.1, 0.2, 0.3, 0.4],\n",
    "              'min_child_weight': [1, 2, 3, 4, 5],\n",
    "              'max_depth': [1, 2, 3, 4, 5]}\n",
    "    \n",
    "    xg_grid_cv = GridSearchCV(XG_clf, param_grid=params, cv=cv, n_jobs=-1)\n",
    "    xg_grid_cv.fit(X_train, y_train)\n",
    "\n",
    "    # 결과 저장\n",
    "    cv_results = cv_results.append({'cv': cv,\n",
    "                                    'best_params': xg_grid_cv.best_params_,\n",
    "                                    'best_score': xg_grid_cv.best_score_}, ignore_index=True)\n",
    "\n",
    "cv_results"
   ]
  },
  {
   "cell_type": "markdown",
   "id": "f7b52686",
   "metadata": {},
   "source": [
    "* cv = 4로 학습"
   ]
  },
  {
   "cell_type": "code",
   "execution_count": 21,
   "id": "56818a9e",
   "metadata": {},
   "outputs": [
    {
     "name": "stdout",
     "output_type": "stream",
     "text": [
      "최적 하이퍼 파라미터:\n",
      " {'learning_rate': 0.3, 'max_depth': 2, 'min_child_weight': 2, 'n_estimators': 100}\n",
      "최고 예측 정확도: 0.8317\n"
     ]
    }
   ],
   "source": [
    "from xgboost import XGBClassifier\n",
    "from sklearn.model_selection import GridSearchCV\n",
    "import random\n",
    "\n",
    "XG_clf = XGBClassifier(random_state=101, objective='binary:logistic')\n",
    "\n",
    "params = {'n_estimators':[100,200,300,400], \n",
    "           'learning_rate' :[0.1, 0.2, 0.3, 0.4],\n",
    "          'min_child_weight' : [1,2,3,4,5],\n",
    "          'max_depth' : [1,2,3,4,5]}\n",
    "\n",
    "xg_grid_cv = GridSearchCV(XG_clf , param_grid=params , cv=4, n_jobs=-1 )\n",
    "xg_grid_cv.fit(X_train , y_train)\n",
    "\n",
    "print('최적 하이퍼 파라미터:\\n', xg_grid_cv.best_params_)\n",
    "print('최고 예측 정확도: {0:.4f}'.format(xg_grid_cv.best_score_))"
   ]
  },
  {
   "cell_type": "code",
   "execution_count": 22,
   "id": "3e73093b",
   "metadata": {},
   "outputs": [
    {
     "data": {
      "image/png": "[encoded data removed]",
      "text/plain": [
       "<Figure size 800x500 with 1 Axes>"
      ]
     },
     "metadata": {},
     "output_type": "display_data"
    }
   ],
   "source": [
    "best_xg_model = xg_grid_cv.best_estimator_\n",
    "\n",
    "best_xg_model.fit(X_train , y_train)\n",
    "feature_names = final_df.columns[:-1]\n",
    "\n",
    "# 학습된 모델을 사용하여 피처 중요도를 얻습니다.\n",
    "feature_importances = best_xg_model.feature_importances_\n",
    "\n",
    "# 피처 중요도를 기준으로 내림차순으로 정렬합니다.\n",
    "sorted_idx = np.argsort(feature_importances)[::-1]\n",
    "sorted_feature_names = [feature_names[i] for i in sorted_idx]\n",
    "sorted_feature_importances = feature_importances[sorted_idx]\n",
    "\n",
    "# 피처 중요도를 시각화합니다.\n",
    "plt.figure(figsize=(8, 5))\n",
    "sns.barplot(x=sorted_feature_importances, y=sorted_feature_names)\n",
    "plt.title(\"Feature Importances (Sorted)\")\n",
    "plt.xlabel(\"Importance\")\n",
    "plt.ylabel(\"Features\")\n",
    "plt.xticks(rotation=90)\n",
    "plt.show()"
   ]
  },
  {
   "cell_type": "markdown",
   "id": "46b08587",
   "metadata": {},
   "source": [
    "## LightGBM"
   ]
  },
  {
   "cell_type": "markdown",
   "id": "ed7ab474",
   "metadata": {},
   "source": [
    "* cv = 2로 학습"
   ]
  },
  {
   "cell_type": "code",
   "execution_count": 23,
   "id": "8745e6b0",
   "metadata": {},
   "outputs": [
    {
     "name": "stdout",
     "output_type": "stream",
     "text": [
      "[LightGBM] [Warning] min_data_in_leaf is set=20, min_child_samples=20 will be ignored. Current value: min_data_in_leaf=20\n",
      "[LightGBM] [Warning] Found whitespace in feature_names, replace with underlines\n",
      "[LightGBM] [Warning] min_data_in_leaf is set=20, min_child_samples=20 will be ignored. Current value: min_data_in_leaf=20\n",
      "[LightGBM] [Info] Number of positive: 1503, number of negative: 4131\n",
      "[LightGBM] [Info] Auto-choosing row-wise multi-threading, the overhead of testing was 0.000222 seconds.\n",
      "You can set `force_row_wise=true` to remove the overhead.\n",
      "And if memory is not enough, you can set `force_col_wise=true`.\n",
      "[LightGBM] [Info] Total Bins 673\n",
      "[LightGBM] [Info] Number of data points in the train set: 5634, number of used features: 10\n",
      "[LightGBM] [Info] [binary:BoostFromScore]: pavg=0.266773 -> initscore=-1.011056\n",
      "[LightGBM] [Info] Start training from score -1.011056\n",
      "[LightGBM] [Warning] No further splits with positive gain, best gain: -inf\n",
      "[LightGBM] [Warning] No further splits with positive gain, best gain: -inf\n",
      "[LightGBM] [Warning] No further splits with positive gain, best gain: -inf\n",
      "[LightGBM] [Warning] No further splits with positive gain, best gain: -inf\n",
      "[LightGBM] [Warning] No further splits with positive gain, best gain: -inf\n",
      "[LightGBM] [Warning] No further splits with positive gain, best gain: -inf\n",
      "[LightGBM] [Warning] No further splits with positive gain, best gain: -inf\n",
      "[LightGBM] [Warning] No further splits with positive gain, best gain: -inf\n",
      "[LightGBM] [Warning] No further splits with positive gain, best gain: -inf\n",
      "[LightGBM] [Warning] No further splits with positive gain, best gain: -inf\n",
      "[LightGBM] [Warning] No further splits with positive gain, best gain: -inf\n",
      "[LightGBM] [Warning] No further splits with positive gain, best gain: -inf\n",
      "[LightGBM] [Warning] No further splits with positive gain, best gain: -inf\n",
      "[LightGBM] [Warning] No further splits with positive gain, best gain: -inf\n",
      "[LightGBM] [Warning] No further splits with positive gain, best gain: -inf\n",
      "[LightGBM] [Warning] No further splits with positive gain, best gain: -inf\n",
      "[LightGBM] [Warning] No further splits with positive gain, best gain: -inf\n",
      "[LightGBM] [Warning] No further splits with positive gain, best gain: -inf\n",
      "[LightGBM] [Warning] No further splits with positive gain, best gain: -inf\n",
      "최적 하이퍼 파라미터:\n",
      " {'max_depth': 3, 'min_data_in_leaf': 20, 'num_leaves': 8}\n",
      "최고 예측 정확도: 0.8293\n"
     ]
    }
   ],
   "source": [
    "import lightgbm as lgb\n",
    "\n",
    "lgb_clf = lgb.LGBMClassifier(random_state=101, objective='binary')\n",
    "\n",
    "params = {'num_leaves' : [8, 12, 18,20,24 ], 'min_data_in_leaf' : [8, 12, 18,20,24 ], 'max_depth' : [2, 3, 5, 10] }\n",
    "\n",
    "lgb_grid_cv = GridSearchCV(lgb_clf , param_grid=params , cv=2, n_jobs=-1 )\n",
    "lgb_grid_cv.fit(X_train , y_train)\n",
    "\n",
    "print('최적 하이퍼 파라미터:\\n', lgb_grid_cv.best_params_)\n",
    "print('최고 예측 정확도: {0:.4f}'.format(lgb_grid_cv.best_score_))"
   ]
  },
  {
   "cell_type": "code",
   "execution_count": 24,
   "id": "6c0797e8",
   "metadata": {
    "scrolled": false
   },
   "outputs": [
    {
     "name": "stdout",
     "output_type": "stream",
     "text": [
      "[LightGBM] [Warning] min_data_in_leaf is set=20, min_child_samples=20 will be ignored. Current value: min_data_in_leaf=20\n",
      "[LightGBM] [Warning] Found whitespace in feature_names, replace with underlines\n",
      "[LightGBM] [Warning] min_data_in_leaf is set=20, min_child_samples=20 will be ignored. Current value: min_data_in_leaf=20\n",
      "[LightGBM] [Info] Number of positive: 1503, number of negative: 4131\n",
      "[LightGBM] [Info] Auto-choosing row-wise multi-threading, the overhead of testing was 0.000182 seconds.\n",
      "You can set `force_row_wise=true` to remove the overhead.\n",
      "And if memory is not enough, you can set `force_col_wise=true`.\n",
      "[LightGBM] [Info] Total Bins 673\n",
      "[LightGBM] [Info] Number of data points in the train set: 5634, number of used features: 10\n",
      "[LightGBM] [Info] [binary:BoostFromScore]: pavg=0.266773 -> initscore=-1.011056\n",
      "[LightGBM] [Info] Start training from score -1.011056\n",
      "[LightGBM] [Warning] No further splits with positive gain, best gain: -inf\n",
      "[LightGBM] [Warning] No further splits with positive gain, best gain: -inf\n",
      "[LightGBM] [Warning] No further splits with positive gain, best gain: -inf\n",
      "[LightGBM] [Warning] No further splits with positive gain, best gain: -inf\n",
      "[LightGBM] [Warning] No further splits with positive gain, best gain: -inf\n",
      "[LightGBM] [Warning] No further splits with positive gain, best gain: -inf\n",
      "[LightGBM] [Warning] No further splits with positive gain, best gain: -inf\n",
      "[LightGBM] [Warning] No further splits with positive gain, best gain: -inf\n",
      "[LightGBM] [Warning] No further splits with positive gain, best gain: -inf\n",
      "[LightGBM] [Warning] No further splits with positive gain, best gain: -inf\n",
      "[LightGBM] [Warning] No further splits with positive gain, best gain: -inf\n",
      "[LightGBM] [Warning] No further splits with positive gain, best gain: -inf\n",
      "[LightGBM] [Warning] No further splits with positive gain, best gain: -inf\n",
      "[LightGBM] [Warning] No further splits with positive gain, best gain: -inf\n",
      "[LightGBM] [Warning] No further splits with positive gain, best gain: -inf\n",
      "[LightGBM] [Warning] No further splits with positive gain, best gain: -inf\n",
      "[LightGBM] [Warning] No further splits with positive gain, best gain: -inf\n",
      "[LightGBM] [Warning] No further splits with positive gain, best gain: -inf\n",
      "[LightGBM] [Warning] No further splits with positive gain, best gain: -inf\n"
     ]
    },
    {
     "data": {
      "image/png": "[encoded data removed]",
      "text/plain": [
       "<Figure size 800x500 with 1 Axes>"
      ]
     },
     "metadata": {},
     "output_type": "display_data"
    }
   ],
   "source": [
    "best_lgb_model = lgb_grid_cv.best_estimator_\n",
    "\n",
    "best_lgb_model.fit(X_train , y_train)\n",
    "feature_names = final_df.columns[:-1]\n",
    "\n",
    "# 학습된 모델을 사용하여 피처 중요도를 얻습니다.\n",
    "feature_importances = best_lgb_model.feature_importances_\n",
    "\n",
    "# 피처 중요도를 기준으로 내림차순으로 정렬합니다.\n",
    "sorted_idx = np.argsort(feature_importances)[::-1]\n",
    "sorted_feature_names = [feature_names[i] for i in sorted_idx]\n",
    "sorted_feature_importances = feature_importances[sorted_idx]\n",
    "\n",
    "# 피처 중요도를 시각화합니다.\n",
    "plt.figure(figsize=(8, 5))\n",
    "sns.barplot(x=sorted_feature_importances, y=sorted_feature_names)\n",
    "plt.title(\"Feature Importances (Sorted)\")\n",
    "plt.xlabel(\"Importance\")\n",
    "plt.ylabel(\"Features\")\n",
    "plt.xticks(rotation=90)\n",
    "plt.show()"
   ]
  },
  {
   "cell_type": "markdown",
   "id": "882038ee",
   "metadata": {},
   "source": [
    "* cv =2~5로 학습했을 때 정확도"
   ]
  },
  {
   "cell_type": "code",
   "execution_count": 25,
   "id": "36d68dab",
   "metadata": {},
   "outputs": [
    {
     "name": "stdout",
     "output_type": "stream",
     "text": [
      "[LightGBM] [Warning] min_data_in_leaf is set=20, min_child_samples=20 will be ignored. Current value: min_data_in_leaf=20\n",
      "[LightGBM] [Warning] Found whitespace in feature_names, replace with underlines\n",
      "[LightGBM] [Warning] min_data_in_leaf is set=20, min_child_samples=20 will be ignored. Current value: min_data_in_leaf=20\n",
      "[LightGBM] [Info] Number of positive: 1503, number of negative: 4131\n",
      "[LightGBM] [Info] Auto-choosing col-wise multi-threading, the overhead of testing was 0.001249 seconds.\n",
      "You can set `force_col_wise=true` to remove the overhead.\n",
      "[LightGBM] [Info] Total Bins 673\n",
      "[LightGBM] [Info] Number of data points in the train set: 5634, number of used features: 10\n",
      "[LightGBM] [Info] [binary:BoostFromScore]: pavg=0.266773 -> initscore=-1.011056\n",
      "[LightGBM] [Info] Start training from score -1.011056\n",
      "[LightGBM] [Warning] No further splits with positive gain, best gain: -inf\n",
      "[LightGBM] [Warning] No further splits with positive gain, best gain: -inf\n",
      "[LightGBM] [Warning] No further splits with positive gain, best gain: -inf\n",
      "[LightGBM] [Warning] No further splits with positive gain, best gain: -inf\n",
      "[LightGBM] [Warning] No further splits with positive gain, best gain: -inf\n",
      "[LightGBM] [Warning] No further splits with positive gain, best gain: -inf\n",
      "[LightGBM] [Warning] No further splits with positive gain, best gain: -inf\n",
      "[LightGBM] [Warning] No further splits with positive gain, best gain: -inf\n",
      "[LightGBM] [Warning] No further splits with positive gain, best gain: -inf\n",
      "[LightGBM] [Warning] No further splits with positive gain, best gain: -inf\n",
      "[LightGBM] [Warning] No further splits with positive gain, best gain: -inf\n",
      "[LightGBM] [Warning] No further splits with positive gain, best gain: -inf\n",
      "[LightGBM] [Warning] No further splits with positive gain, best gain: -inf\n",
      "[LightGBM] [Warning] No further splits with positive gain, best gain: -inf\n",
      "[LightGBM] [Warning] No further splits with positive gain, best gain: -inf\n",
      "[LightGBM] [Warning] No further splits with positive gain, best gain: -inf\n",
      "[LightGBM] [Warning] No further splits with positive gain, best gain: -inf\n",
      "[LightGBM] [Warning] No further splits with positive gain, best gain: -inf\n",
      "[LightGBM] [Warning] No further splits with positive gain, best gain: -inf\n",
      "[LightGBM] [Warning] min_data_in_leaf is set=12, min_child_samples=20 will be ignored. Current value: min_data_in_leaf=12\n",
      "[LightGBM] [Warning] Found whitespace in feature_names, replace with underlines\n",
      "[LightGBM] [Warning] min_data_in_leaf is set=12, min_child_samples=20 will be ignored. Current value: min_data_in_leaf=12\n",
      "[LightGBM] [Info] Number of positive: 1503, number of negative: 4131\n",
      "[LightGBM] [Info] Auto-choosing col-wise multi-threading, the overhead of testing was 0.001395 seconds.\n",
      "You can set `force_col_wise=true` to remove the overhead.\n",
      "[LightGBM] [Info] Total Bins 673\n",
      "[LightGBM] [Info] Number of data points in the train set: 5634, number of used features: 10\n",
      "[LightGBM] [Info] [binary:BoostFromScore]: pavg=0.266773 -> initscore=-1.011056\n",
      "[LightGBM] [Info] Start training from score -1.011056\n",
      "[LightGBM] [Warning] No further splits with positive gain, best gain: -inf\n",
      "[LightGBM] [Warning] No further splits with positive gain, best gain: -inf\n",
      "[LightGBM] [Warning] No further splits with positive gain, best gain: -inf\n",
      "[LightGBM] [Warning] No further splits with positive gain, best gain: -inf\n",
      "[LightGBM] [Warning] No further splits with positive gain, best gain: -inf\n",
      "[LightGBM] [Warning] No further splits with positive gain, best gain: -inf\n",
      "[LightGBM] [Warning] No further splits with positive gain, best gain: -inf\n",
      "[LightGBM] [Warning] No further splits with positive gain, best gain: -inf\n",
      "[LightGBM] [Warning] No further splits with positive gain, best gain: -inf\n",
      "[LightGBM] [Warning] No further splits with positive gain, best gain: -inf\n",
      "[LightGBM] [Warning] No further splits with positive gain, best gain: -inf\n",
      "[LightGBM] [Warning] No further splits with positive gain, best gain: -inf\n",
      "[LightGBM] [Warning] No further splits with positive gain, best gain: -inf\n",
      "[LightGBM] [Warning] No further splits with positive gain, best gain: -inf\n",
      "[LightGBM] [Warning] No further splits with positive gain, best gain: -inf\n",
      "[LightGBM] [Warning] No further splits with positive gain, best gain: -inf\n",
      "[LightGBM] [Warning] No further splits with positive gain, best gain: -inf\n",
      "[LightGBM] [Warning] min_data_in_leaf is set=24, min_child_samples=20 will be ignored. Current value: min_data_in_leaf=24\n",
      "[LightGBM] [Warning] Found whitespace in feature_names, replace with underlines\n",
      "[LightGBM] [Warning] min_data_in_leaf is set=24, min_child_samples=20 will be ignored. Current value: min_data_in_leaf=24\n",
      "[LightGBM] [Info] Number of positive: 1503, number of negative: 4131\n",
      "[LightGBM] [Info] Auto-choosing row-wise multi-threading, the overhead of testing was 0.000323 seconds.\n",
      "You can set `force_row_wise=true` to remove the overhead.\n",
      "And if memory is not enough, you can set `force_col_wise=true`.\n",
      "[LightGBM] [Info] Total Bins 673\n",
      "[LightGBM] [Info] Number of data points in the train set: 5634, number of used features: 10\n",
      "[LightGBM] [Info] [binary:BoostFromScore]: pavg=0.266773 -> initscore=-1.011056\n",
      "[LightGBM] [Info] Start training from score -1.011056\n",
      "[LightGBM] [Warning] No further splits with positive gain, best gain: -inf\n",
      "[LightGBM] [Warning] No further splits with positive gain, best gain: -inf\n",
      "[LightGBM] [Warning] No further splits with positive gain, best gain: -inf\n",
      "[LightGBM] [Warning] No further splits with positive gain, best gain: -inf\n",
      "[LightGBM] [Warning] No further splits with positive gain, best gain: -inf\n",
      "[LightGBM] [Warning] No further splits with positive gain, best gain: -inf\n",
      "[LightGBM] [Warning] No further splits with positive gain, best gain: -inf\n",
      "[LightGBM] [Warning] No further splits with positive gain, best gain: -inf\n",
      "[LightGBM] [Warning] No further splits with positive gain, best gain: -inf\n",
      "[LightGBM] [Warning] No further splits with positive gain, best gain: -inf\n",
      "[LightGBM] [Warning] No further splits with positive gain, best gain: -inf\n",
      "[LightGBM] [Warning] No further splits with positive gain, best gain: -inf\n",
      "[LightGBM] [Warning] No further splits with positive gain, best gain: -inf\n",
      "[LightGBM] [Warning] No further splits with positive gain, best gain: -inf\n",
      "[LightGBM] [Warning] No further splits with positive gain, best gain: -inf\n",
      "[LightGBM] [Warning] min_data_in_leaf is set=24, min_child_samples=20 will be ignored. Current value: min_data_in_leaf=24\n",
      "[LightGBM] [Warning] Found whitespace in feature_names, replace with underlines\n",
      "[LightGBM] [Warning] min_data_in_leaf is set=24, min_child_samples=20 will be ignored. Current value: min_data_in_leaf=24\n",
      "[LightGBM] [Info] Number of positive: 1503, number of negative: 4131\n",
      "[LightGBM] [Info] Auto-choosing col-wise multi-threading, the overhead of testing was 0.001238 seconds.\n",
      "You can set `force_col_wise=true` to remove the overhead.\n",
      "[LightGBM] [Info] Total Bins 673\n",
      "[LightGBM] [Info] Number of data points in the train set: 5634, number of used features: 10\n",
      "[LightGBM] [Info] [binary:BoostFromScore]: pavg=0.266773 -> initscore=-1.011056\n",
      "[LightGBM] [Info] Start training from score -1.011056\n",
      "[LightGBM] [Warning] No further splits with positive gain, best gain: -inf\n",
      "[LightGBM] [Warning] No further splits with positive gain, best gain: -inf\n",
      "[LightGBM] [Warning] No further splits with positive gain, best gain: -inf\n",
      "[LightGBM] [Warning] No further splits with positive gain, best gain: -inf\n",
      "[LightGBM] [Warning] No further splits with positive gain, best gain: -inf\n",
      "[LightGBM] [Warning] No further splits with positive gain, best gain: -inf\n",
      "[LightGBM] [Warning] No further splits with positive gain, best gain: -inf\n",
      "[LightGBM] [Warning] No further splits with positive gain, best gain: -inf\n",
      "[LightGBM] [Warning] No further splits with positive gain, best gain: -inf\n",
      "[LightGBM] [Warning] No further splits with positive gain, best gain: -inf\n",
      "[LightGBM] [Warning] No further splits with positive gain, best gain: -inf\n",
      "[LightGBM] [Warning] No further splits with positive gain, best gain: -inf\n",
      "[LightGBM] [Warning] No further splits with positive gain, best gain: -inf\n",
      "[LightGBM] [Warning] No further splits with positive gain, best gain: -inf\n",
      "[LightGBM] [Warning] No further splits with positive gain, best gain: -inf\n"
     ]
    },
    {
     "data": {
      "text/html": [
       "<div>\n",
       "<style scoped>\n",
       "    .dataframe tbody tr th:only-of-type {\n",
       "        vertical-align: middle;\n",
       "    }\n",
       "\n",
       "    .dataframe tbody tr th {\n",
       "        vertical-align: top;\n",
       "    }\n",
       "\n",
       "    .dataframe thead th {\n",
       "        text-align: right;\n",
       "    }\n",
       "</style>\n",
       "<table border=\"1\" class=\"dataframe\">\n",
       "  <thead>\n",
       "    <tr style=\"text-align: right;\">\n",
       "      <th></th>\n",
       "      <th>cv</th>\n",
       "      <th>best_params</th>\n",
       "      <th>best_score</th>\n",
       "    </tr>\n",
       "  </thead>\n",
       "  <tbody>\n",
       "    <tr>\n",
       "      <th>0</th>\n",
       "      <td>2</td>\n",
       "      <td>{'max_depth': 3, 'min_data_in_leaf': 20, 'num_...</td>\n",
       "      <td>0.829251</td>\n",
       "    </tr>\n",
       "    <tr>\n",
       "      <th>1</th>\n",
       "      <td>3</td>\n",
       "      <td>{'max_depth': 3, 'min_data_in_leaf': 12, 'num_...</td>\n",
       "      <td>0.831381</td>\n",
       "    </tr>\n",
       "    <tr>\n",
       "      <th>2</th>\n",
       "      <td>4</td>\n",
       "      <td>{'max_depth': 3, 'min_data_in_leaf': 24, 'num_...</td>\n",
       "      <td>0.832980</td>\n",
       "    </tr>\n",
       "    <tr>\n",
       "      <th>3</th>\n",
       "      <td>5</td>\n",
       "      <td>{'max_depth': 3, 'min_data_in_leaf': 24, 'num_...</td>\n",
       "      <td>0.830493</td>\n",
       "    </tr>\n",
       "  </tbody>\n",
       "</table>\n",
       "</div>"
      ],
      "text/plain": [
       "  cv                                        best_params  best_score\n",
       "0  2  {'max_depth': 3, 'min_data_in_leaf': 20, 'num_...    0.829251\n",
       "1  3  {'max_depth': 3, 'min_data_in_leaf': 12, 'num_...    0.831381\n",
       "2  4  {'max_depth': 3, 'min_data_in_leaf': 24, 'num_...    0.832980\n",
       "3  5  {'max_depth': 3, 'min_data_in_leaf': 24, 'num_...    0.830493"
      ]
     },
     "execution_count": 25,
     "metadata": {},
     "output_type": "execute_result"
    }
   ],
   "source": [
    "import lightgbm as lgb\n",
    "import pandas as pd\n",
    "\n",
    "# cv 값 리스트 정의\n",
    "cv_values = [2, 3, 4, 5]\n",
    "\n",
    "# 결과를 저장할 데이터프레임 생성\n",
    "cv_results = pd.DataFrame(columns=['cv', 'best_params', 'best_score'])\n",
    "\n",
    "for cv in cv_values:\n",
    "    # LGBMClassifier 모델 생성\n",
    "    lgb_clf = lgb.LGBMClassifier(random_state=101, objective='binary')\n",
    "\n",
    "    # GridSearchCV 수행\n",
    "    params = {'num_leaves': [8, 12, 18, 20, 24],\n",
    "              'min_data_in_leaf': [8, 12, 18, 20, 24],\n",
    "              'max_depth': [2, 3, 5, 10]}\n",
    "    \n",
    "    lgb_grid_cv = GridSearchCV(lgb_clf, param_grid=params, cv=cv, n_jobs=-1)\n",
    "    lgb_grid_cv.fit(X_train, y_train)\n",
    "\n",
    "    # 결과 저장\n",
    "    cv_results = cv_results.append({'cv': cv,\n",
    "                                    'best_params': lgb_grid_cv.best_params_,\n",
    "                                    'best_score': lgb_grid_cv.best_score_}, ignore_index=True)\n",
    "    \n",
    "cv_results"
   ]
  },
  {
   "cell_type": "markdown",
   "id": "d01e27fc",
   "metadata": {},
   "source": [
    "* cv = 4로 학습"
   ]
  },
  {
   "cell_type": "code",
   "execution_count": 26,
   "id": "b955aa8a",
   "metadata": {},
   "outputs": [
    {
     "name": "stdout",
     "output_type": "stream",
     "text": [
      "[LightGBM] [Warning] min_data_in_leaf is set=24, min_child_samples=20 will be ignored. Current value: min_data_in_leaf=24\n",
      "[LightGBM] [Warning] Found whitespace in feature_names, replace with underlines\n",
      "[LightGBM] [Warning] min_data_in_leaf is set=24, min_child_samples=20 will be ignored. Current value: min_data_in_leaf=24\n",
      "[LightGBM] [Info] Number of positive: 1503, number of negative: 4131\n",
      "[LightGBM] [Info] Auto-choosing col-wise multi-threading, the overhead of testing was 0.001457 seconds.\n",
      "You can set `force_col_wise=true` to remove the overhead.\n",
      "[LightGBM] [Info] Total Bins 673\n",
      "[LightGBM] [Info] Number of data points in the train set: 5634, number of used features: 10\n",
      "[LightGBM] [Info] [binary:BoostFromScore]: pavg=0.266773 -> initscore=-1.011056\n",
      "[LightGBM] [Info] Start training from score -1.011056\n",
      "[LightGBM] [Warning] No further splits with positive gain, best gain: -inf\n",
      "[LightGBM] [Warning] No further splits with positive gain, best gain: -inf\n",
      "[LightGBM] [Warning] No further splits with positive gain, best gain: -inf\n",
      "[LightGBM] [Warning] No further splits with positive gain, best gain: -inf\n",
      "[LightGBM] [Warning] No further splits with positive gain, best gain: -inf\n",
      "[LightGBM] [Warning] No further splits with positive gain, best gain: -inf\n",
      "[LightGBM] [Warning] No further splits with positive gain, best gain: -inf\n",
      "[LightGBM] [Warning] No further splits with positive gain, best gain: -inf\n",
      "[LightGBM] [Warning] No further splits with positive gain, best gain: -inf\n",
      "[LightGBM] [Warning] No further splits with positive gain, best gain: -inf\n",
      "[LightGBM] [Warning] No further splits with positive gain, best gain: -inf\n",
      "[LightGBM] [Warning] No further splits with positive gain, best gain: -inf\n",
      "[LightGBM] [Warning] No further splits with positive gain, best gain: -inf\n",
      "[LightGBM] [Warning] No further splits with positive gain, best gain: -inf\n",
      "[LightGBM] [Warning] No further splits with positive gain, best gain: -inf\n",
      "최적 하이퍼 파라미터:\n",
      " {'max_depth': 3, 'min_data_in_leaf': 24, 'num_leaves': 8}\n",
      "최고 예측 정확도: 0.8330\n"
     ]
    }
   ],
   "source": [
    "import lightgbm as lgb\n",
    "\n",
    "lgb_clf = lgb.LGBMClassifier(random_state=101, objective='binary')\n",
    "\n",
    "params = {'num_leaves' : [8, 12, 18,20,24 ], 'min_data_in_leaf' : [8, 12, 18,20,24 ], 'max_depth' : [2, 3, 5, 10] }\n",
    "\n",
    "lgb_grid_cv = GridSearchCV(lgb_clf , param_grid=params , cv=4, n_jobs=-1 )\n",
    "lgb_grid_cv.fit(X_train , y_train)\n",
    "\n",
    "print('최적 하이퍼 파라미터:\\n', lgb_grid_cv.best_params_)\n",
    "print('최고 예측 정확도: {0:.4f}'.format(lgb_grid_cv.best_score_))"
   ]
  },
  {
   "cell_type": "code",
   "execution_count": 27,
   "id": "1902d455",
   "metadata": {},
   "outputs": [
    {
     "name": "stdout",
     "output_type": "stream",
     "text": [
      "[LightGBM] [Warning] min_data_in_leaf is set=24, min_child_samples=20 will be ignored. Current value: min_data_in_leaf=24\n",
      "[LightGBM] [Warning] Found whitespace in feature_names, replace with underlines\n",
      "[LightGBM] [Warning] min_data_in_leaf is set=24, min_child_samples=20 will be ignored. Current value: min_data_in_leaf=24\n",
      "[LightGBM] [Info] Number of positive: 1503, number of negative: 4131\n",
      "[LightGBM] [Info] Auto-choosing col-wise multi-threading, the overhead of testing was 0.000709 seconds.\n",
      "You can set `force_col_wise=true` to remove the overhead.\n",
      "[LightGBM] [Info] Total Bins 673\n",
      "[LightGBM] [Info] Number of data points in the train set: 5634, number of used features: 10\n",
      "[LightGBM] [Info] [binary:BoostFromScore]: pavg=0.266773 -> initscore=-1.011056\n",
      "[LightGBM] [Info] Start training from score -1.011056\n",
      "[LightGBM] [Warning] No further splits with positive gain, best gain: -inf\n",
      "[LightGBM] [Warning] No further splits with positive gain, best gain: -inf\n",
      "[LightGBM] [Warning] No further splits with positive gain, best gain: -inf\n",
      "[LightGBM] [Warning] No further splits with positive gain, best gain: -inf\n",
      "[LightGBM] [Warning] No further splits with positive gain, best gain: -inf\n",
      "[LightGBM] [Warning] No further splits with positive gain, best gain: -inf\n",
      "[LightGBM] [Warning] No further splits with positive gain, best gain: -inf\n",
      "[LightGBM] [Warning] No further splits with positive gain, best gain: -inf\n",
      "[LightGBM] [Warning] No further splits with positive gain, best gain: -inf\n",
      "[LightGBM] [Warning] No further splits with positive gain, best gain: -inf\n",
      "[LightGBM] [Warning] No further splits with positive gain, best gain: -inf\n",
      "[LightGBM] [Warning] No further splits with positive gain, best gain: -inf\n",
      "[LightGBM] [Warning] No further splits with positive gain, best gain: -inf\n",
      "[LightGBM] [Warning] No further splits with positive gain, best gain: -inf\n",
      "[LightGBM] [Warning] No further splits with positive gain, best gain: -inf\n"
     ]
    },
    {
     "data": {
      "image/png": "[encoded data removed]",
      "text/plain": [
       "<Figure size 800x500 with 1 Axes>"
      ]
     },
     "metadata": {},
     "output_type": "display_data"
    }
   ],
   "source": [
    "best_lgb_model = lgb_grid_cv.best_estimator_\n",
    "\n",
    "best_lgb_model.fit(X_train , y_train)\n",
    "feature_names = final_df.columns[:-1]\n",
    "\n",
    "# 학습된 모델을 사용하여 피처 중요도를 얻습니다.\n",
    "feature_importances = best_lgb_model.feature_importances_\n",
    "\n",
    "# 피처 중요도를 기준으로 내림차순으로 정렬합니다.\n",
    "sorted_idx = np.argsort(feature_importances)[::-1]\n",
    "sorted_feature_names = [feature_names[i] for i in sorted_idx]\n",
    "sorted_feature_importances = feature_importances[sorted_idx]\n",
    "\n",
    "# 피처 중요도를 시각화합니다.\n",
    "plt.figure(figsize=(8, 5))\n",
    "sns.barplot(x=sorted_feature_importances, y=sorted_feature_names)\n",
    "plt.title(\"Feature Importances (Sorted)\")\n",
    "plt.xlabel(\"Importance\")\n",
    "plt.ylabel(\"Features\")\n",
    "plt.xticks(rotation=90)\n",
    "plt.show()"
   ]
  },
  {
   "cell_type": "markdown",
   "id": "e77f41f0",
   "metadata": {},
   "source": [
    "## CatBoost"
   ]
  },
  {
   "cell_type": "markdown",
   "id": "b10fdf94",
   "metadata": {},
   "source": [
    "* cv = 2로 학습"
   ]
  },
  {
   "cell_type": "code",
   "execution_count": 28,
   "id": "45343479",
   "metadata": {},
   "outputs": [
    {
     "name": "stdout",
     "output_type": "stream",
     "text": [
      "0:\tlearn: 0.4650681\ttotal: 142ms\tremaining: 142ms\n",
      "1:\tlearn: 0.4196475\ttotal: 143ms\tremaining: 0us\n",
      "모델의 정확도: 0.7970191625266146\n"
     ]
    }
   ],
   "source": [
    "from catboost import CatBoostClassifier, Pool\n",
    "cb_clf = CatBoostClassifier(iterations=2,\n",
    "                           depth=2,\n",
    "                           learning_rate=1,\n",
    "                           loss_function='Logloss',\n",
    "                           verbose=True)\n",
    "# train the model\n",
    "cb_clf.fit(X_train, y_train)\n",
    "\n",
    "# 모델을 사용하여 테스트 데이터에 대한 예측 수행\n",
    "y_pred = cb_clf.predict(X_test)\n",
    "\n",
    "# 정확도 평가\n",
    "from sklearn.metrics import accuracy_score\n",
    "accuracy = accuracy_score(y_test, y_pred)\n",
    "\n",
    "print('모델의 정확도:', accuracy)"
   ]
  },
  {
   "cell_type": "code",
   "execution_count": 29,
   "id": "6aa86a93",
   "metadata": {
    "scrolled": true
   },
   "outputs": [
    {
     "data": {
      "image/png": "[encoded data removed]",
      "text/plain": [
       "<Figure size 800x500 with 1 Axes>"
      ]
     },
     "metadata": {},
     "output_type": "display_data"
    }
   ],
   "source": [
    "import matplotlib.pyplot as plt\n",
    "\n",
    "# 모델의 피처 중요도 가져오기\n",
    "feature_importance = cb_clf.get_feature_importance(type='FeatureImportance')\n",
    "\n",
    "# 피처 이름 가져오기 (예시: X_train의 열 이름)\n",
    "feature_names = final_df.columns[:-1]\n",
    "\n",
    "# 피처 중요도를 기준으로 내림차순으로 정렬합니다.\n",
    "sorted_idx = np.argsort(feature_importance)[::-1]\n",
    "sorted_feature_names = [feature_names[i] for i in sorted_idx]\n",
    "sorted_feature_importances = feature_importance[sorted_idx]\n",
    "\n",
    "# 피처 중요도를 시각화합니다.\n",
    "plt.figure(figsize=(8, 5))\n",
    "sns.barplot(x=sorted_feature_importances, y=sorted_feature_names)\n",
    "plt.title(\"Feature Importances (Sorted)\")\n",
    "plt.xlabel(\"Importance\")\n",
    "plt.ylabel(\"Features\")\n",
    "plt.xticks(rotation=90)\n",
    "plt.show()\n"
   ]
  },
  {
   "cell_type": "markdown",
   "id": "df58b755",
   "metadata": {},
   "source": [
    "# 모델 선택"
   ]
  },
  {
   "cell_type": "markdown",
   "id": "cc01a2c4",
   "metadata": {},
   "source": [
    "* RandomForest : 0.826413 (cv=5)\n",
    "* DecisionTree : 0.817893 (cv=4)\n",
    "* GradientBoosting : 0.8269 (cv=2)\n",
    "* XGBoost : 0.831737 (cv=4)\n",
    "* **LightGBM : 0.832980 (cv=4)**\n",
    "* CatBoost : 0.7970191625266146 (교차검증X)"
   ]
  },
  {
   "cell_type": "markdown",
   "id": "e0b43556",
   "metadata": {},
   "source": [
    "# 모델 적용"
   ]
  },
  {
   "cell_type": "code",
   "execution_count": 30,
   "id": "079ab38c",
   "metadata": {},
   "outputs": [
    {
     "name": "stdout",
     "output_type": "stream",
     "text": [
      "[LightGBM] [Warning] min_data_in_leaf is set=24, min_child_samples=20 will be ignored. Current value: min_data_in_leaf=24\n",
      "[LightGBM] [Warning] Found whitespace in feature_names, replace with underlines\n",
      "[LightGBM] [Warning] min_data_in_leaf is set=24, min_child_samples=20 will be ignored. Current value: min_data_in_leaf=24\n",
      "[LightGBM] [Info] Number of positive: 1503, number of negative: 4131\n",
      "[LightGBM] [Info] Auto-choosing row-wise multi-threading, the overhead of testing was 0.000306 seconds.\n",
      "You can set `force_row_wise=true` to remove the overhead.\n",
      "And if memory is not enough, you can set `force_col_wise=true`.\n",
      "[LightGBM] [Info] Total Bins 673\n",
      "[LightGBM] [Info] Number of data points in the train set: 5634, number of used features: 10\n",
      "[LightGBM] [Info] [binary:BoostFromScore]: pavg=0.266773 -> initscore=-1.011056\n",
      "[LightGBM] [Info] Start training from score -1.011056\n",
      "[LightGBM] [Warning] No further splits with positive gain, best gain: -inf\n",
      "[LightGBM] [Warning] No further splits with positive gain, best gain: -inf\n",
      "[LightGBM] [Warning] No further splits with positive gain, best gain: -inf\n",
      "[LightGBM] [Warning] No further splits with positive gain, best gain: -inf\n",
      "[LightGBM] [Warning] No further splits with positive gain, best gain: -inf\n",
      "[LightGBM] [Warning] No further splits with positive gain, best gain: -inf\n",
      "[LightGBM] [Warning] No further splits with positive gain, best gain: -inf\n",
      "[LightGBM] [Warning] No further splits with positive gain, best gain: -inf\n",
      "[LightGBM] [Warning] No further splits with positive gain, best gain: -inf\n",
      "[LightGBM] [Warning] No further splits with positive gain, best gain: -inf\n",
      "[LightGBM] [Warning] No further splits with positive gain, best gain: -inf\n",
      "[LightGBM] [Warning] No further splits with positive gain, best gain: -inf\n",
      "[LightGBM] [Warning] No further splits with positive gain, best gain: -inf\n",
      "[LightGBM] [Warning] No further splits with positive gain, best gain: -inf\n",
      "[LightGBM] [Warning] No further splits with positive gain, best gain: -inf\n",
      "[LightGBM] [Warning] min_data_in_leaf is set=24, min_child_samples=20 will be ignored. Current value: min_data_in_leaf=24\n",
      "[LightGBM] [Warning] Found whitespace in feature_names, replace with underlines\n",
      "[LightGBM] [Warning] min_data_in_leaf is set=24, min_child_samples=20 will be ignored. Current value: min_data_in_leaf=24\n",
      "[LightGBM] [Info] Number of positive: 1503, number of negative: 4131\n",
      "[LightGBM] [Info] Auto-choosing row-wise multi-threading, the overhead of testing was 0.000168 seconds.\n",
      "You can set `force_row_wise=true` to remove the overhead.\n",
      "And if memory is not enough, you can set `force_col_wise=true`.\n",
      "[LightGBM] [Info] Total Bins 673\n",
      "[LightGBM] [Info] Number of data points in the train set: 5634, number of used features: 10\n",
      "[LightGBM] [Info] [binary:BoostFromScore]: pavg=0.266773 -> initscore=-1.011056\n",
      "[LightGBM] [Info] Start training from score -1.011056\n",
      "[LightGBM] [Warning] No further splits with positive gain, best gain: -inf\n",
      "[LightGBM] [Warning] No further splits with positive gain, best gain: -inf\n",
      "[LightGBM] [Warning] No further splits with positive gain, best gain: -inf\n",
      "[LightGBM] [Warning] No further splits with positive gain, best gain: -inf\n",
      "[LightGBM] [Warning] No further splits with positive gain, best gain: -inf\n",
      "[LightGBM] [Warning] No further splits with positive gain, best gain: -inf\n",
      "[LightGBM] [Warning] No further splits with positive gain, best gain: -inf\n",
      "[LightGBM] [Warning] No further splits with positive gain, best gain: -inf\n",
      "[LightGBM] [Warning] No further splits with positive gain, best gain: -inf\n",
      "[LightGBM] [Warning] No further splits with positive gain, best gain: -inf\n",
      "[LightGBM] [Warning] No further splits with positive gain, best gain: -inf\n",
      "[LightGBM] [Warning] No further splits with positive gain, best gain: -inf\n",
      "[LightGBM] [Warning] No further splits with positive gain, best gain: -inf\n",
      "[LightGBM] [Warning] No further splits with positive gain, best gain: -inf\n",
      "[LightGBM] [Warning] No further splits with positive gain, best gain: -inf\n"
     ]
    },
    {
     "data": {
      "text/plain": [
       "LGBMClassifier(max_depth=3, min_data_in_leaf=24, num_leaves=8,\n",
       "               objective='binary', random_state=101)"
      ]
     },
     "execution_count": 30,
     "metadata": {},
     "output_type": "execute_result"
    }
   ],
   "source": [
    "import lightgbm as lgb\n",
    "\n",
    "lgb_clf = lgb.LGBMClassifier(random_state=101, objective='binary')\n",
    "\n",
    "params = {'num_leaves' : [8, 12, 18,20,24 ], 'min_data_in_leaf' : [8, 12, 18,20,24 ], 'max_depth' : [2, 3, 5, 10] }\n",
    "\n",
    "lgb_grid_cv = GridSearchCV(lgb_clf , param_grid=params , cv=4, n_jobs=-1 )\n",
    "lgb_grid_cv.fit(X_train , y_train)\n",
    "\n",
    "best_lgb_model = lgb_grid_cv.best_estimator_\n",
    "best_lgb_model.fit(X_train , y_train)"
   ]
  },
  {
   "cell_type": "code",
   "execution_count": 31,
   "id": "c24f1e31",
   "metadata": {},
   "outputs": [
    {
     "name": "stdout",
     "output_type": "stream",
     "text": [
      "[LightGBM] [Warning] min_data_in_leaf is set=24, min_child_samples=20 will be ignored. Current value: min_data_in_leaf=24\n",
      "[LightGBM] [Warning] min_data_in_leaf is set=24, min_child_samples=20 will be ignored. Current value: min_data_in_leaf=24\n",
      "가상 고객이 이탈할 확률: 0.3716719048343303\n",
      "가상 고객 이탈 점수: 37 점\n"
     ]
    }
   ],
   "source": [
    "# 최적의 모델을 사용하여 테스트 데이터를 예측합니다.\n",
    "test_data = [[0.413115, 0.333333, 0.6, 0.75, 0.75, 0.333333, 0.0, 0.239437, 0.79850, 0.158013]]\n",
    "predicted_class = best_lgb_model.predict(test_data)\n",
    "\n",
    "# 최적의 모델을 사용하여 테스트 데이터의 클래스 확률을 예측합니다.\n",
    "predicted_proba = best_lgb_model.predict_proba(test_data)\n",
    "\n",
    "# 클래스 1일 확률(이탈할 확률)을 출력합니다.\n",
    "probability_of_class_1 = predicted_proba[0][1]  # 첫 번째 테스트 데이터에 대한 클래스 1일 확률\n",
    "print(\"가상 고객이 이탈할 확률:\", probability_of_class_1)\n",
    "print(\"가상 고객 이탈 점수:\", int(probability_of_class_1 * 100), \"점\")\n"
   ]
  },
  {
   "cell_type": "code",
   "execution_count": null,
   "id": "7c430638",
   "metadata": {},
   "outputs": [],
   "source": []
  }
 ],
 "metadata": {
  "kernelspec": {
   "display_name": "Python 3 (ipykernel)",
   "language": "python",
   "name": "python3"
  },
  "language_info": {
   "codemirror_mode": {
    "name": "ipython",
    "version": 3
   },
   "file_extension": ".py",
   "mimetype": "text/x-python",
   "name": "python",
   "nbconvert_exporter": "python",
   "pygments_lexer": "ipython3",
   "version": "3.9.13"
  },
  "toc": {
   "base_numbering": 1,
   "nav_menu": {},
   "number_sections": true,
   "sideBar": true,
   "skip_h1_title": false,
   "title_cell": "Table of Contents",
   "title_sidebar": "Contents",
   "toc_cell": false,
   "toc_position": {
    "height": "calc(100% - 180px)",
    "left": "10px",
    "top": "150px",
    "width": "341.319px"
   },
   "toc_section_display": true,
   "toc_window_display": true
  }
 },
 "nbformat": 4,
 "nbformat_minor": 5
}
